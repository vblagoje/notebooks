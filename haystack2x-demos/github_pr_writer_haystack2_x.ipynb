{
  "nbformat": 4,
  "nbformat_minor": 0,
  "metadata": {
    "colab": {
      "provenance": [],
      "authorship_tag": "ABX9TyM7RFuXApIoaAGArJ558NOu"
    },
    "kernelspec": {
      "name": "python3",
      "display_name": "Python 3"
    },
    "language_info": {
      "name": "python"
    }
  },
  "cells": [
    {
      "cell_type": "markdown",
      "source": [
        "#Introduction\n",
        "\n",
        "This notebook demonstrates the versatility of Haystack 2.x framework in integrating with any OpenAPI specification service, exemplified here using automated GitHub Pull Request writing. It highlights how we can dynamically invoke any OpenAPI services and incorporate their outputs into the context of a Large Language Model (LLM), showcasing on-demand, service-based Retrieval-Augmented Generation (RAG)."
      ],
      "metadata": {
        "id": "m2LZsriKe_HM"
      }
    },
    {
      "cell_type": "markdown",
      "source": [
        "## 1. Setup\n",
        "\n",
        "This notebook demos GitHub Pull Request (PR) text generation.\n",
        "\n",
        "Let's install necessary libraries and import key modules to build the foundation for the subsequent steps."
      ],
      "metadata": {
        "id": "vAJ49qd5YHoY"
      }
    },
    {
      "cell_type": "code",
      "execution_count": 1,
      "metadata": {
        "colab": {
          "base_uri": "https://localhost:8080/"
        },
        "id": "LeI4Pf1YlwXd",
        "outputId": "5aeb348b-b809-4cad-d448-60d602f7d461"
      },
      "outputs": [
        {
          "output_type": "stream",
          "name": "stdout",
          "text": [
            "\u001b[33mDEPRECATION: git+https://github.com/deepset-ai/haystack.git@openapi_container_v3#egg=farm-haystack[preview] contains an egg fragment with a non-PEP 508 name pip 25.0 will enforce this behaviour change. A possible replacement is to use the req @ url syntax, and remove the egg fragment. Discussion can be found at https://github.com/pypa/pip/issues/11617\u001b[0m\u001b[33m\n",
            "\u001b[0m  Installing build dependencies ... \u001b[?25l\u001b[?25hdone\n",
            "  Getting requirements to build wheel ... \u001b[?25l\u001b[?25hdone\n",
            "  Preparing metadata (pyproject.toml) ... \u001b[?25l\u001b[?25hdone\n",
            "\u001b[2K     \u001b[90m━━━━━━━━━━━━━━━━━━━━━━━━━━━━━━━━━━━━━━━━\u001b[0m \u001b[32m75.0/75.0 kB\u001b[0m \u001b[31m3.0 MB/s\u001b[0m eta \u001b[36m0:00:00\u001b[0m\n",
            "\u001b[2K     \u001b[90m━━━━━━━━━━━━━━━━━━━━━━━━━━━━━━━━━━━━━━━━\u001b[0m \u001b[32m10.7/10.7 MB\u001b[0m \u001b[31m82.1 MB/s\u001b[0m eta \u001b[36m0:00:00\u001b[0m\n",
            "\u001b[2K     \u001b[90m━━━━━━━━━━━━━━━━━━━━━━━━━━━━━━━━━━━━━━━━\u001b[0m \u001b[32m48.7/48.7 kB\u001b[0m \u001b[31m6.1 MB/s\u001b[0m eta \u001b[36m0:00:00\u001b[0m\n",
            "\u001b[2K     \u001b[90m━━━━━━━━━━━━━━━━━━━━━━━━━━━━━━━━━━━━━━━━\u001b[0m \u001b[32m10.8/10.8 MB\u001b[0m \u001b[31m91.2 MB/s\u001b[0m eta \u001b[36m0:00:00\u001b[0m\n",
            "\u001b[2K     \u001b[90m━━━━━━━━━━━━━━━━━━━━━━━━━━━━━━━━━━━━━━━━\u001b[0m \u001b[32m2.0/2.0 MB\u001b[0m \u001b[31m76.4 MB/s\u001b[0m eta \u001b[36m0:00:00\u001b[0m\n",
            "\u001b[2K     \u001b[90m━━━━━━━━━━━━━━━━━━━━━━━━━━━━━━━━━━━━━━━━\u001b[0m \u001b[32m77.0/77.0 kB\u001b[0m \u001b[31m9.1 MB/s\u001b[0m eta \u001b[36m0:00:00\u001b[0m\n",
            "\u001b[2K     \u001b[90m━━━━━━━━━━━━━━━━━━━━━━━━━━━━━━━━━━━━━━━━\u001b[0m \u001b[32m57.5/57.5 kB\u001b[0m \u001b[31m6.1 MB/s\u001b[0m eta \u001b[36m0:00:00\u001b[0m\n",
            "\u001b[2K     \u001b[90m━━━━━━━━━━━━━━━━━━━━━━━━━━━━━━━━━━━━━━━━\u001b[0m \u001b[32m76.9/76.9 kB\u001b[0m \u001b[31m8.8 MB/s\u001b[0m eta \u001b[36m0:00:00\u001b[0m\n",
            "\u001b[2K     \u001b[90m━━━━━━━━━━━━━━━━━━━━━━━━━━━━━━━━━━━━━━━━\u001b[0m \u001b[32m143.3/143.3 kB\u001b[0m \u001b[31m15.9 MB/s\u001b[0m eta \u001b[36m0:00:00\u001b[0m\n",
            "\u001b[2K     \u001b[90m━━━━━━━━━━━━━━━━━━━━━━━━━━━━━━━━━━━━━━━━\u001b[0m \u001b[32m58.3/58.3 kB\u001b[0m \u001b[31m6.6 MB/s\u001b[0m eta \u001b[36m0:00:00\u001b[0m\n",
            "\u001b[?25h  Preparing metadata (setup.py) ... \u001b[?25l\u001b[?25hdone\n",
            "  Building wheel for farm-haystack (pyproject.toml) ... \u001b[?25l\u001b[?25hdone\n",
            "  Building wheel for docopt (setup.py) ... \u001b[?25l\u001b[?25hdone\n",
            "\u001b[31mERROR: pip's dependency resolver does not currently take into account all the packages that are installed. This behaviour is the source of the following dependency conflicts.\n",
            "llmx 0.0.15a0 requires cohere, which is not installed.\u001b[0m\u001b[31m\n",
            "\u001b[0m"
          ]
        }
      ],
      "source": [
        "!pip install -q git+https://github.com/deepset-ai/haystack.git@openapi_container_v3#egg=farm-haystack[preview]"
      ]
    },
    {
      "cell_type": "code",
      "source": [
        "!pip install -q jsonref openapi3"
      ],
      "metadata": {
        "id": "ABVE4N8yl5mA"
      },
      "execution_count": 2,
      "outputs": []
    },
    {
      "cell_type": "code",
      "source": [
        "import getpass\n",
        "import os\n",
        "\n",
        "from haystack.preview import Pipeline\n",
        "from haystack.preview.components.converters import OpenAPIServiceToFunctions\n",
        "from haystack.preview.components.connectors import OpenAPIServiceConnector\n",
        "from haystack.preview.components.generators.chat import GPTChatGenerator\n",
        "from haystack.preview.components.generators.utils import default_streaming_callback\n",
        "from haystack.preview.dataclasses import ChatMessage"
      ],
      "metadata": {
        "id": "sF9T8r8ymBRy"
      },
      "execution_count": 3,
      "outputs": []
    },
    {
      "cell_type": "markdown",
      "source": [
        "## 2. API Key Input and System Initialization\n",
        "\n",
        "Begin by entering your OpenAI API key. Following this step, we initialize a system message for the GitHub PR Expert."
      ],
      "metadata": {
        "id": "HQVXS85hYliI"
      }
    },
    {
      "cell_type": "code",
      "source": [
        "llm_api_key = getpass.getpass(\"Enter LLM provider api key:\")"
      ],
      "metadata": {
        "colab": {
          "base_uri": "https://localhost:8080/"
        },
        "id": "MtJwPt38mVYy",
        "outputId": "28198157-f2aa-4ac2-9642-545f68915ae5"
      },
      "execution_count": 4,
      "outputs": [
        {
          "name": "stdout",
          "output_type": "stream",
          "text": [
            "Enter LLM provider api key:··········\n"
          ]
        }
      ]
    },
    {
      "cell_type": "code",
      "source": [
        "system_message = \"\"\"\n",
        "As the GitHub PR Expert, your enhanced role now includes the ability to analyze diffs provided by GitHub REST service.\n",
        "You'll be given a JSON formatted string consisting of PR commits, description, authors etc. Your primary task is\n",
        "crafting GitHub Pull Request text in markdown format, structured into five sections:\n",
        "\n",
        "Why:\n",
        "What:\n",
        "How can it be used:\n",
        "How did you test it:\n",
        "Notes for the reviewer:\n",
        "\n",
        "Always use these sections' names, don't rename them.\n",
        "\n",
        "When provided with a diff link or output, you should review and interpret the changes to accurately describe them\n",
        "in the PR. In cases where the diff is not clear or more context is needed, you should request additional information\n",
        "or clarification. Continue to use markdown elements effectively to organize the PR content. Your goal is to offer\n",
        "insightful, accurate descriptions of code changes, enhancing the understanding of the PR reviewer.\n",
        "Do not use ```markdown and ``` delimeters, just start your response with ### Why markdown format directly.\n",
        "\"\"\"\n",
        "system_message = ChatMessage.from_system(system_message)\n"
      ],
      "metadata": {
        "id": "wALrroVfmGxg"
      },
      "execution_count": 44,
      "outputs": []
    },
    {
      "cell_type": "markdown",
      "source": [
        "## 3. Pipeline Creation and Configuration\n",
        "\n",
        "This section involves setting up the core components of the Haystack 2.x pipeline, which includes the OpenAPIServiceToFunctions, GPTChatGenerator, and OpenAPIServiceConnector. These components are connected to create a pipeline that processes and interprets the GitHub PR commands and data."
      ],
      "metadata": {
        "id": "qvyqnUpNY_lN"
      }
    },
    {
      "cell_type": "code",
      "source": [
        "functions_converter = OpenAPIServiceToFunctions()\n",
        "functions_llm = GPTChatGenerator(api_key=llm_api_key, model_name=\"gpt-3.5-turbo-0613\")\n",
        "openapi_container = OpenAPIServiceConnector()\n",
        "llm = GPTChatGenerator(api_key=llm_api_key, model_name=\"gpt-4-1106-preview\", streaming_callback=default_streaming_callback)"
      ],
      "metadata": {
        "id": "M6jCK8ppmN_j"
      },
      "execution_count": 29,
      "outputs": []
    },
    {
      "cell_type": "code",
      "source": [
        "pipe = Pipeline()\n",
        "pipe.add_component(\"functions_converter\", functions_converter)\n",
        "pipe.add_component(\"functions_llm\", functions_llm)\n",
        "pipe.add_component(\"openapi_container\", openapi_container)\n",
        "pipe.connect(\"functions_converter.functions\", \"functions_llm.generation_kwargs\")\n",
        "pipe.connect(\"functions_converter.service_openapi_spec\", \"openapi_container.service_openapi_spec\")\n",
        "pipe.connect(\"functions_llm.replies\", \"openapi_container.messages\")\n",
        "\n",
        "gen_pipe = Pipeline()\n",
        "gen_pipe.add_component(\"llm\", llm)"
      ],
      "metadata": {
        "id": "jTlJ_9V0mp74"
      },
      "execution_count": 30,
      "outputs": []
    },
    {
      "cell_type": "markdown",
      "source": [
        "## 4. User Input and PR Command Processing\n",
        "\n",
        "Here, the user can input specific GitHub PR commands. Make sure to mention\n",
        "project, repo and the branches involved."
      ],
      "metadata": {
        "id": "36h_9JjSZQnO"
      }
    },
    {
      "cell_type": "code",
      "source": [
        "user_prompt = input(\"Enter your GitHub PR command: \")\n",
        "#Example: Compare branches main and SearchApi:feat/add-searchapi-integration, in project deepset-ai, repo haystack\n",
        "#Example: Compare branches main and rafaelpadilla:add_bbox_transformations in project huggingface repo transformers"
      ],
      "metadata": {
        "colab": {
          "base_uri": "https://localhost:8080/"
        },
        "id": "gHMEuFG5nLPN",
        "outputId": "56d52514-9774-446b-cd5e-241c6c325df7"
      },
      "execution_count": 50,
      "outputs": [
        {
          "name": "stdout",
          "output_type": "stream",
          "text": [
            "Enter your GitHub PR command: Compare branches main and SearchApi:feat/add-searchapi-integration in project deepset-ai, repo haystack\n"
          ]
        }
      ]
    },
    {
      "cell_type": "code",
      "source": [
        "messages = [ChatMessage.from_system(\"You are a helpful assistant capable of function calling.\"),\n",
        "            ChatMessage.from_user(user_prompt)]"
      ],
      "metadata": {
        "id": "RQ1uiVsTm14e"
      },
      "execution_count": 51,
      "outputs": []
    },
    {
      "cell_type": "markdown",
      "source": [
        "## 5. Processing OpenAPI Specification and GitHub Service Invocation\n",
        "In this step, the notebook retrieves the OpenAPI specification for the GitHub compare branches service. This specification is then transformed into OpenAI function definitions. When a user inputs a command, the LLM generates service information parameters from this input. These parameters are used to dynamically invoke the GitHub compare branches service, allowing for real-time, context-sensitive interactions with GitHub's API.\n",
        "\n",
        "\n",
        "But before we do that let's review the GitHub OpenAPI service definition.\n"
      ],
      "metadata": {
        "id": "XOpKp5mxZrwV"
      }
    },
    {
      "cell_type": "code",
      "source": [
        "openapi_github_compare_branches_spec_url = \"https://t.ly/eBODl\""
      ],
      "metadata": {
        "id": "OMy7S5_Dnlri"
      },
      "execution_count": 20,
      "outputs": []
    },
    {
      "cell_type": "code",
      "source": [
        "import json\n",
        "import requests\n",
        "from IPython.display import HTML\n",
        "\n",
        "def render(jstr):\n",
        "  if type(jstr) != str:\n",
        "    jstr = json.dumps(jstr)\n",
        "  return HTML(\"\"\"\n",
        "<script src=\"https://rawgit.com/caldwell/renderjson/master/renderjson.js\"></script>\n",
        "<script>\n",
        "renderjson.set_show_to_level(1)\n",
        "document.body.appendChild(renderjson(%s))\n",
        "new ResizeObserver(google.colab.output.resizeIframeToContent).observe(document.body)\n",
        "</script>\n",
        "\"\"\" % jstr)\n",
        "\n",
        "response = requests.get(openapi_github_compare_branches_spec_url)\n",
        "response.raise_for_status()\n",
        "render(response.json())"
      ],
      "metadata": {
        "colab": {
          "base_uri": "https://localhost:8080/",
          "height": 139
        },
        "id": "gRUmWce-wxvr",
        "outputId": "8d887004-5c86-4354-f8bf-c712f0b7ffb9"
      },
      "execution_count": 21,
      "outputs": [
        {
          "output_type": "execute_result",
          "data": {
            "text/plain": [
              "<IPython.core.display.HTML object>"
            ],
            "text/html": [
              "\n",
              "<script src=\"https://rawgit.com/caldwell/renderjson/master/renderjson.js\"></script>\n",
              "<script>\n",
              "renderjson.set_show_to_level(1)\n",
              "document.body.appendChild(renderjson({\"openapi\": \"3.1.0\", \"info\": {\"title\": \"Github API\", \"description\": \"Enables interaction with OpenAPI\", \"version\": \"v1.0.0\"}, \"servers\": [{\"url\": \"https://api.github.com\"}], \"paths\": {\"/repos/{owner}/{repo}/compare/{basehead}\": {\"get\": {\"summary\": \"Compare two branches\", \"description\": \"Compares two branches against one another.\", \"tags\": [\"repos\"], \"operationId\": \"compare_branches\", \"externalDocs\": {\"description\": \"API method documentation\", \"url\": \"https://docs.github.com/enterprise-server@3.9/rest/commits/commits#compare-two-commits\"}, \"parameters\": [{\"name\": \"basehead\", \"description\": \"The base branch and head branch to compare. This parameter expects the format `BASE...HEAD`\", \"in\": \"path\", \"required\": true, \"x-multi-segment\": true, \"schema\": {\"type\": \"string\"}}, {\"name\": \"owner\", \"description\": \"The repository owner, usually a company or orgnization\", \"in\": \"path\", \"required\": true, \"x-multi-segment\": true, \"schema\": {\"type\": \"string\"}}, {\"name\": \"repo\", \"description\": \"The repository itself, the project\", \"in\": \"path\", \"required\": true, \"x-multi-segment\": true, \"schema\": {\"type\": \"string\"}}], \"responses\": {\"200\": {\"description\": \"Response\", \"content\": {\"application/json\": {\"schema\": {\"$ref\": \"#/components/schemas/commit-comparison\"}}}}}, \"x-github\": {\"githubCloudOnly\": false, \"enabledForGitHubApps\": true, \"category\": \"commits\", \"subcategory\": \"commits\"}}}}, \"components\": {\"schemas\": {\"commit-comparison\": {\"title\": \"Commit Comparison\", \"description\": \"Commit Comparison\", \"type\": \"object\", \"properties\": {\"url\": {\"type\": \"string\", \"format\": \"uri\", \"example\": \"https://api.github.com/repos/octocat/Hello-World/compare/master...topic\"}, \"html_url\": {\"type\": \"string\", \"format\": \"uri\", \"example\": \"https://github.com/octocat/Hello-World/compare/master...topic\"}, \"permalink_url\": {\"type\": \"string\", \"format\": \"uri\", \"example\": \"https://github.com/octocat/Hello-World/compare/octocat:bbcd538c8e72b8c175046e27cc8f907076331401...octocat:0328041d1152db8ae77652d1618a02e57f745f17\"}, \"diff_url\": {\"type\": \"string\", \"format\": \"uri\", \"example\": \"https://github.com/octocat/Hello-World/compare/master...topic.diff\"}, \"patch_url\": {\"type\": \"string\", \"format\": \"uri\", \"example\": \"https://github.com/octocat/Hello-World/compare/master...topic.patch\"}, \"base_commit\": {\"$ref\": \"#/components/schemas/commit\"}, \"merge_base_commit\": {\"$ref\": \"#/components/schemas/commit\"}, \"status\": {\"type\": \"string\", \"enum\": [\"diverged\", \"ahead\", \"behind\", \"identical\"], \"example\": \"ahead\"}, \"ahead_by\": {\"type\": \"integer\", \"example\": 4}, \"behind_by\": {\"type\": \"integer\", \"example\": 5}, \"total_commits\": {\"type\": \"integer\", \"example\": 6}, \"commits\": {\"type\": \"array\", \"items\": {\"$ref\": \"#/components/schemas/commit\"}}, \"files\": {\"type\": \"array\", \"items\": {\"$ref\": \"#/components/schemas/diff-entry\"}}}, \"required\": [\"url\", \"html_url\", \"permalink_url\", \"diff_url\", \"patch_url\", \"base_commit\", \"merge_base_commit\", \"status\", \"ahead_by\", \"behind_by\", \"total_commits\", \"commits\"]}, \"nullable-git-user\": {\"title\": \"Git User\", \"description\": \"Metaproperties for Git author/committer information.\", \"type\": \"object\", \"properties\": {\"name\": {\"type\": \"string\", \"example\": \"\\\"Chris Wanstrath\\\"\"}, \"email\": {\"type\": \"string\", \"example\": \"\\\"chris@ozmm.org\\\"\"}, \"date\": {\"type\": \"string\", \"example\": \"\\\"2007-10-29T02:42:39.000-07:00\\\"\"}}, \"nullable\": true}, \"nullable-simple-user\": {\"title\": \"Simple User\", \"description\": \"A GitHub user.\", \"type\": \"object\", \"properties\": {\"name\": {\"nullable\": true, \"type\": \"string\"}, \"email\": {\"nullable\": true, \"type\": \"string\"}, \"login\": {\"type\": \"string\", \"example\": \"octocat\"}, \"id\": {\"type\": \"integer\", \"example\": 1}, \"node_id\": {\"type\": \"string\", \"example\": \"MDQ6VXNlcjE=\"}, \"avatar_url\": {\"type\": \"string\", \"format\": \"uri\", \"example\": \"https://github.com/images/error/octocat_happy.gif\"}, \"gravatar_id\": {\"type\": \"string\", \"example\": \"41d064eb2195891e12d0413f63227ea7\", \"nullable\": true}, \"url\": {\"type\": \"string\", \"format\": \"uri\", \"example\": \"https://api.github.com/users/octocat\"}, \"html_url\": {\"type\": \"string\", \"format\": \"uri\", \"example\": \"https://github.com/octocat\"}, \"followers_url\": {\"type\": \"string\", \"format\": \"uri\", \"example\": \"https://api.github.com/users/octocat/followers\"}, \"following_url\": {\"type\": \"string\", \"example\": \"https://api.github.com/users/octocat/following{/other_user}\"}, \"gists_url\": {\"type\": \"string\", \"example\": \"https://api.github.com/users/octocat/gists{/gist_id}\"}, \"starred_url\": {\"type\": \"string\", \"example\": \"https://api.github.com/users/octocat/starred{/owner}{/repo}\"}, \"subscriptions_url\": {\"type\": \"string\", \"format\": \"uri\", \"example\": \"https://api.github.com/users/octocat/subscriptions\"}, \"organizations_url\": {\"type\": \"string\", \"format\": \"uri\", \"example\": \"https://api.github.com/users/octocat/orgs\"}, \"repos_url\": {\"type\": \"string\", \"format\": \"uri\", \"example\": \"https://api.github.com/users/octocat/repos\"}, \"events_url\": {\"type\": \"string\", \"example\": \"https://api.github.com/users/octocat/events{/privacy}\"}, \"received_events_url\": {\"type\": \"string\", \"format\": \"uri\", \"example\": \"https://api.github.com/users/octocat/received_events\"}, \"type\": {\"type\": \"string\", \"example\": \"User\"}, \"site_admin\": {\"type\": \"boolean\"}, \"starred_at\": {\"type\": \"string\", \"example\": \"\\\"2020-07-09T00:17:55Z\\\"\"}}, \"required\": [\"avatar_url\", \"events_url\", \"followers_url\", \"following_url\", \"gists_url\", \"gravatar_id\", \"html_url\", \"id\", \"node_id\", \"login\", \"organizations_url\", \"received_events_url\", \"repos_url\", \"site_admin\", \"starred_url\", \"subscriptions_url\", \"type\", \"url\"], \"nullable\": true}, \"verification\": {\"title\": \"Verification\", \"type\": \"object\", \"properties\": {\"verified\": {\"type\": \"boolean\"}, \"reason\": {\"type\": \"string\"}, \"payload\": {\"type\": \"string\", \"nullable\": true}, \"signature\": {\"type\": \"string\", \"nullable\": true}}, \"required\": [\"verified\", \"reason\", \"payload\", \"signature\"]}, \"diff-entry\": {\"title\": \"Diff Entry\", \"description\": \"Diff Entry\", \"type\": \"object\", \"properties\": {\"sha\": {\"type\": \"string\", \"example\": \"bbcd538c8e72b8c175046e27cc8f907076331401\"}, \"filename\": {\"type\": \"string\", \"example\": \"file1.txt\"}, \"status\": {\"type\": \"string\", \"enum\": [\"added\", \"removed\", \"modified\", \"renamed\", \"copied\", \"changed\", \"unchanged\"], \"example\": \"added\"}, \"additions\": {\"type\": \"integer\", \"example\": 103}, \"deletions\": {\"type\": \"integer\", \"example\": 21}, \"changes\": {\"type\": \"integer\", \"example\": 124}, \"blob_url\": {\"type\": \"string\", \"format\": \"uri\", \"example\": \"https://github.com/octocat/Hello-World/blob/6dcb09b5b57875f334f61aebed695e2e4193db5e/file1.txt\"}, \"raw_url\": {\"type\": \"string\", \"format\": \"uri\", \"example\": \"https://github.com/octocat/Hello-World/raw/6dcb09b5b57875f334f61aebed695e2e4193db5e/file1.txt\"}, \"contents_url\": {\"type\": \"string\", \"format\": \"uri\", \"example\": \"https://api.github.com/repos/octocat/Hello-World/contents/file1.txt?ref=6dcb09b5b57875f334f61aebed695e2e4193db5e\"}, \"patch\": {\"type\": \"string\", \"example\": \"@@ -132,7 +132,7 @@ module Test @@ -1000,7 +1000,7 @@ module Test\"}, \"previous_filename\": {\"type\": \"string\", \"example\": \"file.txt\"}}, \"required\": [\"additions\", \"blob_url\", \"changes\", \"contents_url\", \"deletions\", \"filename\", \"raw_url\", \"sha\", \"status\"]}, \"commit\": {\"title\": \"Commit\", \"description\": \"Commit\", \"type\": \"object\", \"properties\": {\"url\": {\"type\": \"string\", \"format\": \"uri\", \"example\": \"https://api.github.com/repos/octocat/Hello-World/commits/6dcb09b5b57875f334f61aebed695e2e4193db5e\"}, \"sha\": {\"type\": \"string\", \"example\": \"6dcb09b5b57875f334f61aebed695e2e4193db5e\"}, \"node_id\": {\"type\": \"string\", \"example\": \"MDY6Q29tbWl0NmRjYjA5YjViNTc4NzVmMzM0ZjYxYWViZWQ2OTVlMmU0MTkzZGI1ZQ==\"}, \"html_url\": {\"type\": \"string\", \"format\": \"uri\", \"example\": \"https://github.com/octocat/Hello-World/commit/6dcb09b5b57875f334f61aebed695e2e4193db5e\"}, \"comments_url\": {\"type\": \"string\", \"format\": \"uri\", \"example\": \"https://api.github.com/repos/octocat/Hello-World/commits/6dcb09b5b57875f334f61aebed695e2e4193db5e/comments\"}, \"commit\": {\"type\": \"object\", \"properties\": {\"url\": {\"type\": \"string\", \"format\": \"uri\", \"example\": \"https://api.github.com/repos/octocat/Hello-World/commits/6dcb09b5b57875f334f61aebed695e2e4193db5e\"}, \"author\": {\"$ref\": \"#/components/schemas/nullable-git-user\"}, \"committer\": {\"$ref\": \"#/components/schemas/nullable-git-user\"}, \"message\": {\"type\": \"string\", \"example\": \"Fix all the bugs\"}, \"comment_count\": {\"type\": \"integer\", \"example\": 0}, \"tree\": {\"type\": \"object\", \"properties\": {\"sha\": {\"type\": \"string\", \"example\": \"827efc6d56897b048c772eb4087f854f46256132\"}, \"url\": {\"type\": \"string\", \"format\": \"uri\", \"example\": \"https://api.github.com/repos/octocat/Hello-World/tree/827efc6d56897b048c772eb4087f854f46256132\"}}, \"required\": [\"sha\", \"url\"]}, \"verification\": {\"$ref\": \"#/components/schemas/verification\"}}, \"required\": [\"author\", \"committer\", \"comment_count\", \"message\", \"tree\", \"url\"]}, \"author\": {\"$ref\": \"#/components/schemas/nullable-simple-user\"}, \"committer\": {\"$ref\": \"#/components/schemas/nullable-simple-user\"}, \"parents\": {\"type\": \"array\", \"items\": {\"type\": \"object\", \"properties\": {\"sha\": {\"type\": \"string\", \"example\": \"7638417db6d59f3c431d3e1f261cc637155684cd\"}, \"url\": {\"type\": \"string\", \"format\": \"uri\", \"example\": \"https://api.github.com/repos/octocat/Hello-World/commits/7638417db6d59f3c431d3e1f261cc637155684cd\"}, \"html_url\": {\"type\": \"string\", \"format\": \"uri\", \"example\": \"https://github.com/octocat/Hello-World/commit/7638417db6d59f3c431d3e1f261cc637155684cd\"}}, \"required\": [\"sha\", \"url\"]}}, \"stats\": {\"type\": \"object\", \"properties\": {\"additions\": {\"type\": \"integer\"}, \"deletions\": {\"type\": \"integer\"}, \"total\": {\"type\": \"integer\"}}}, \"files\": {\"type\": \"array\", \"items\": {\"$ref\": \"#/components/schemas/diff-entry\"}}}, \"required\": [\"url\", \"sha\", \"node_id\", \"html_url\", \"comments_url\", \"commit\", \"author\", \"committer\", \"parents\"]}}}}))\n",
              "new ResizeObserver(google.colab.output.resizeIframeToContent).observe(document.body)\n",
              "</script>\n"
            ]
          },
          "metadata": {},
          "execution_count": 21
        }
      ]
    },
    {
      "cell_type": "code",
      "source": [
        "# The fetched data, which includes details like PR commits, descriptions, and author information\n",
        "service_result = pipe.run(data={\"functions_converter\": {\"service_spec_url\": openapi_github_compare_branches_spec_url},\n",
        "                                \"functions_llm\": {\"messages\": messages}})"
      ],
      "metadata": {
        "id": "OJGMLNcjmwAi"
      },
      "execution_count": 52,
      "outputs": []
    },
    {
      "cell_type": "markdown",
      "source": [
        "## 6. Generating Github PR Text with GPT-4 Model\n",
        "\n",
        "Using the latest GPT-4 model (gpt-4-1106-preview), this section generates the textual content of the GitHub PR using the GitHub service data as context."
      ],
      "metadata": {
        "id": "3sa2Xs8dZ8fW"
      }
    },
    {
      "cell_type": "code",
      "source": [
        "github_pr_prompt_messages = [system_message] + service_result[\"openapi_container\"][\"service_response\"]\n",
        "final_result = gen_pipe.run(data={\"llm\": {\"messages\": github_pr_prompt_messages}})"
      ],
      "metadata": {
        "colab": {
          "base_uri": "https://localhost:8080/"
        },
        "id": "mHEZtb7nnzXJ",
        "outputId": "7622d3da-5f2e-4ea0-fe4a-b12812ea0595"
      },
      "execution_count": 53,
      "outputs": [
        {
          "output_type": "stream",
          "name": "stdout",
          "text": [
            "### Why\n",
            "The purpose of this Pull Request is to introduce SearchApi integration into the Haystack project, allowing users to access search results from various engines including Google, Google Scholar, YouTube, and YouTube transcripts through a unified API.\n",
            "\n",
            "### What\n",
            "This PR consists of adding a new `SearchApi` class, along with associated updates and documentation changes to support the integration of SearchApi as a web search provider. The main changes are:\n",
            "\n",
            "1. Modification of the `retriever/web.py` to include \"SearchApi\" as a search engine provider.\n",
            "2. Adding the new `SearchApi` class inside `providers.py` to handle the actual SearchApi queries and result processing.\n",
            "3. Updating the `WebSearch` component within `web.py` to support the new SearchApi provider.\n",
            "4. Extending the `__init__.py` file within `components/websearch` to include the new `SearchApiWebSearch`.\n",
            "5. Introducing a new `searchapi.py` file in `components/websearch` which defines the `SearchApiWebSearch` component.\n",
            "6. Documentation updates to describe the new SearchApi provider in `test/4084-agent-demo.md`.\n",
            "7. Release notes entry (`add-searchapi-integration-bb9130485c3c9429.yaml`) mentioning the integration of SearchApi as a web search provider.\n",
            "8. Test cases have been added (`test_web_search.py`) to ensure the correct functionality of the SearchApi provider within the web search module.\n",
            "\n",
            "### How can it be used\n",
            "After merging this PR, users can configure the Haystack pipeline to use the SearchApi provider for conducting searches across various engines. It can be done by specifying `SearchApi` as the provider when using the `WebSearch` component and providing necessary parameters such as the API key, top search results count (`top_k`), allowed domains, and any other search engine-specific parameters.\n",
            "\n",
            "### How did you test it\n",
            "Integration tests have been added for the new provider, as seen in the files `test_web_search.py`, `test_searchapi.py`, and relevant environment keys have been set up to test against the real SearchApi service. Tests cover basic functionality, handling of different `top_k` values, and ensure that proper exceptions are thrown for request timeouts or HTTP errors.\n",
            "\n",
            "### Notes for the reviewer\n",
            "- The reviewer should ensure that the added SearchApi class conforms to the existing architecture and coding standards of the Haystack project.\n",
            "- Attention should be given to the exception handling part to confirm that it's robust and user-friendly.\n",
            "- The documentation changes should be reviewed to ensure they provide clear and concise guidance to the end-users on how to use the new SearchApi integration.\n",
            "- Additional focus on the tests is suggested to make sure they cover the crucial parts of the new functionality and are reliable indicators of the provider's correct behavior.\n",
            "- Since the API key for SearchApi is required for real-time testing, confirm that no sensitive information is exposed and proper environment variable management is in place."
          ]
        }
      ]
    },
    {
      "cell_type": "markdown",
      "source": [
        "##7. Displaying the Generated PR Text\n",
        "\n",
        "Although we also streamed GitHub PR text, the generated GitHub PR text is displayed below in a special markdown component."
      ],
      "metadata": {
        "id": "wFk929D9aNRm"
      }
    },
    {
      "cell_type": "code",
      "source": [
        "from IPython.display import Markdown\n",
        "Markdown(final_result[\"llm\"][\"replies\"][0].content)"
      ],
      "metadata": {
        "colab": {
          "base_uri": "https://localhost:8080/",
          "height": 708
        },
        "id": "BXnVA3V5tufs",
        "outputId": "7524dcc7-3a49-4ddf-dfb5-bdd69a74ba2c"
      },
      "execution_count": 54,
      "outputs": [
        {
          "output_type": "execute_result",
          "data": {
            "text/plain": [
              "<IPython.core.display.Markdown object>"
            ],
            "text/markdown": "### Why\nThe purpose of this Pull Request is to introduce SearchApi integration into the Haystack project, allowing users to access search results from various engines including Google, Google Scholar, YouTube, and YouTube transcripts through a unified API.\n\n### What\nThis PR consists of adding a new `SearchApi` class, along with associated updates and documentation changes to support the integration of SearchApi as a web search provider. The main changes are:\n\n1. Modification of the `retriever/web.py` to include \"SearchApi\" as a search engine provider.\n2. Adding the new `SearchApi` class inside `providers.py` to handle the actual SearchApi queries and result processing.\n3. Updating the `WebSearch` component within `web.py` to support the new SearchApi provider.\n4. Extending the `__init__.py` file within `components/websearch` to include the new `SearchApiWebSearch`.\n5. Introducing a new `searchapi.py` file in `components/websearch` which defines the `SearchApiWebSearch` component.\n6. Documentation updates to describe the new SearchApi provider in `test/4084-agent-demo.md`.\n7. Release notes entry (`add-searchapi-integration-bb9130485c3c9429.yaml`) mentioning the integration of SearchApi as a web search provider.\n8. Test cases have been added (`test_web_search.py`) to ensure the correct functionality of the SearchApi provider within the web search module.\n\n### How can it be used\nAfter merging this PR, users can configure the Haystack pipeline to use the SearchApi provider for conducting searches across various engines. It can be done by specifying `SearchApi` as the provider when using the `WebSearch` component and providing necessary parameters such as the API key, top search results count (`top_k`), allowed domains, and any other search engine-specific parameters.\n\n### How did you test it\nIntegration tests have been added for the new provider, as seen in the files `test_web_search.py`, `test_searchapi.py`, and relevant environment keys have been set up to test against the real SearchApi service. Tests cover basic functionality, handling of different `top_k` values, and ensure that proper exceptions are thrown for request timeouts or HTTP errors.\n\n### Notes for the reviewer\n- The reviewer should ensure that the added SearchApi class conforms to the existing architecture and coding standards of the Haystack project.\n- Attention should be given to the exception handling part to confirm that it's robust and user-friendly.\n- The documentation changes should be reviewed to ensure they provide clear and concise guidance to the end-users on how to use the new SearchApi integration.\n- Additional focus on the tests is suggested to make sure they cover the crucial parts of the new functionality and are reliable indicators of the provider's correct behavior.\n- Since the API key for SearchApi is required for real-time testing, confirm that no sensitive information is exposed and proper environment variable management is in place."
          },
          "metadata": {},
          "execution_count": 54
        }
      ]
    },
    {
      "cell_type": "markdown",
      "source": [
        "## Thank you, questions?\n",
        "\n",
        "<a href=\"www.qr-code-generator.com/\" border=\"0\" style=\"cursor:default\" rel=\"nofollow\"><img src=\"https://chart.googleapis.com/chart?cht=qr&chl=https%3A%2F%2Fgithub.com%2Fvblagoje%2Fnotebooks%2Fblob%2Fmain%2Fhaystack2x-demos%2Fgithub_pr_writer_haystack2_x.ipynb&chs=180x180&choe=UTF-8&chld=L|2\"></a>"
      ],
      "metadata": {
        "id": "9X_X6VQ-oq0V"
      }
    },
    {
      "cell_type": "markdown",
      "source": [
        "Links:\n",
        "https://github.com/deepset-ai/haystack/"
      ],
      "metadata": {
        "id": "-5yO2JClrBq5"
      }
    }
  ]
}