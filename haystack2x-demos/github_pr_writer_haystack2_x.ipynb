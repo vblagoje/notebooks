{
  "nbformat": 4,
  "nbformat_minor": 0,
  "metadata": {
    "colab": {
      "provenance": [],
      "include_colab_link": true
    },
    "kernelspec": {
      "name": "python3",
      "display_name": "Python 3"
    },
    "language_info": {
      "name": "python"
    }
  },
  "cells": [
    {
      "cell_type": "markdown",
      "metadata": {
        "id": "view-in-github",
        "colab_type": "text"
      },
      "source": [
        "<a href=\"https://colab.research.google.com/github/vblagoje/notebooks/blob/main/haystack2x-demos/github_pr_writer_haystack2_x.ipynb\" target=\"_parent\"><img src=\"https://colab.research.google.com/assets/colab-badge.svg\" alt=\"Open In Colab\"/></a>"
      ]
    },
    {
      "cell_type": "markdown",
      "source": [
        "#Introduction\n",
        "\n",
        "This notebook demonstrates the versatility of Haystack 2.x framework in integrating with any OpenAPI specification service, exemplified here using automated GitHub Pull Request writing. It highlights how we can dynamically invoke any OpenAPI services and incorporate their outputs into the context of a Large Language Model (LLM), showcasing on-demand, service-based Retrieval-Augmented Generation (RAG)."
      ],
      "metadata": {
        "id": "m2LZsriKe_HM"
      }
    },
    {
      "cell_type": "markdown",
      "source": [
        "## 1. Setup\n",
        "\n",
        "This notebook demos GitHub Pull Request (PR) text generation.\n",
        "\n",
        "Let's install necessary libraries and import key modules to build the foundation for the subsequent steps."
      ],
      "metadata": {
        "id": "vAJ49qd5YHoY"
      }
    },
    {
      "cell_type": "code",
      "source": [
        "!pip uninstall -y llmx"
      ],
      "metadata": {
        "id": "3S-rRo8AkI4b"
      },
      "execution_count": null,
      "outputs": []
    },
    {
      "cell_type": "code",
      "source": [
        "!pip install -q jsonref openapi3 haystack-ai"
      ],
      "metadata": {
        "id": "ABVE4N8yl5mA",
        "outputId": "f957f191-c8e0-445e-db82-8f6b9204eeea",
        "colab": {
          "base_uri": "https://localhost:8080/"
        }
      },
      "execution_count": 1,
      "outputs": [
        {
          "output_type": "stream",
          "name": "stdout",
          "text": [
            "\u001b[2K     \u001b[90m━━━━━━━━━━━━━━━━━━━━━━━━━━━━━━━━━━━━━━━━\u001b[0m \u001b[32m239.6/239.6 kB\u001b[0m \u001b[31m6.4 MB/s\u001b[0m eta \u001b[36m0:00:00\u001b[0m\n",
            "\u001b[2K     \u001b[90m━━━━━━━━━━━━━━━━━━━━━━━━━━━━━━━━━━━━━━━━\u001b[0m \u001b[32m226.7/226.7 kB\u001b[0m \u001b[31m26.0 MB/s\u001b[0m eta \u001b[36m0:00:00\u001b[0m\n",
            "\u001b[2K     \u001b[90m━━━━━━━━━━━━━━━━━━━━━━━━━━━━━━━━━━━━━━━━\u001b[0m \u001b[32m41.1/41.1 kB\u001b[0m \u001b[31m5.1 MB/s\u001b[0m eta \u001b[36m0:00:00\u001b[0m\n",
            "\u001b[2K     \u001b[90m━━━━━━━━━━━━━━━━━━━━━━━━━━━━━━━━━━━━━━━━\u001b[0m \u001b[32m75.9/75.9 kB\u001b[0m \u001b[31m9.6 MB/s\u001b[0m eta \u001b[36m0:00:00\u001b[0m\n",
            "\u001b[2K     \u001b[90m━━━━━━━━━━━━━━━━━━━━━━━━━━━━━━━━━━━━━━━━\u001b[0m \u001b[32m76.9/76.9 kB\u001b[0m \u001b[31m8.8 MB/s\u001b[0m eta \u001b[36m0:00:00\u001b[0m\n",
            "\u001b[2K     \u001b[90m━━━━━━━━━━━━━━━━━━━━━━━━━━━━━━━━━━━━━━━━\u001b[0m \u001b[32m58.3/58.3 kB\u001b[0m \u001b[31m7.7 MB/s\u001b[0m eta \u001b[36m0:00:00\u001b[0m\n",
            "\u001b[?25h\u001b[31mERROR: pip's dependency resolver does not currently take into account all the packages that are installed. This behaviour is the source of the following dependency conflicts.\n",
            "llmx 0.0.15a0 requires cohere, which is not installed.\n",
            "llmx 0.0.15a0 requires tiktoken, which is not installed.\u001b[0m\u001b[31m\n",
            "\u001b[0m"
          ]
        }
      ]
    },
    {
      "cell_type": "code",
      "source": [
        "import getpass\n",
        "import os\n",
        "import requests\n",
        "\n",
        "from haystack import Pipeline\n",
        "from haystack.components.converters import OpenAPIServiceToFunctions\n",
        "from haystack.components.connectors import OpenAPIServiceConnector\n",
        "from haystack.components.generators.chat import OpenAIChatGenerator\n",
        "from haystack.components.generators.utils import print_streaming_chunk\n",
        "from haystack.dataclasses import ChatMessage\n",
        "from haystack.utils import Secret"
      ],
      "metadata": {
        "id": "sF9T8r8ymBRy"
      },
      "execution_count": 8,
      "outputs": []
    },
    {
      "cell_type": "markdown",
      "source": [
        "## 2. API Key Input and System Initialization\n",
        "\n",
        "Begin by entering your OpenAI API key. Following this step, we initialize a system message for the GitHub PR Expert."
      ],
      "metadata": {
        "id": "HQVXS85hYliI"
      }
    },
    {
      "cell_type": "code",
      "source": [
        "llm_api_key = getpass.getpass(\"Enter LLM provider api key:\")\n",
        "github_token = getpass.getpass(\"Enter GitHub token:\")"
      ],
      "metadata": {
        "colab": {
          "base_uri": "https://localhost:8080/"
        },
        "id": "MtJwPt38mVYy",
        "outputId": "7d75e2f8-9793-40a9-ba72-6f27c3a45352"
      },
      "execution_count": 17,
      "outputs": [
        {
          "name": "stdout",
          "output_type": "stream",
          "text": [
            "Enter LLM provider api key:··········\n",
            "Enter GitHub token:··········\n"
          ]
        }
      ]
    },
    {
      "cell_type": "markdown",
      "source": [
        "## 3. Pipeline Creation and Configuration\n",
        "\n",
        "This section involves setting up the core components of the Haystack 2.x pipeline, which includes the OpenAPIServiceToFunctions, OpenAIChatGenerator, and OpenAPIServiceConnector. These components are connected to create a pipeline that processes and interprets the GitHub PR commands and data."
      ],
      "metadata": {
        "id": "qvyqnUpNY_lN"
      }
    },
    {
      "cell_type": "code",
      "source": [
        "gen_func_pipeline = Pipeline()\n",
        "gen_func_pipeline.add_component(\"spec_to_functions\", OpenAPIServiceToFunctions())\n",
        "\n",
        "\n",
        "system_message = requests.get(\"https://bit.ly/auto_pr_writer_system_prompt\").text\n",
        "\n",
        "\n",
        "functions_result = gen_func_pipeline.run(data={\"sources\":[\"https://bit.ly/github_compare\"],\n",
        "                                               \"system_messages\":[system_message]})"
      ],
      "metadata": {
        "id": "gNh1pr01MDT2"
      },
      "execution_count": 34,
      "outputs": []
    },
    {
      "cell_type": "code",
      "source": [
        "invoke_service_pipe = Pipeline()\n",
        "invoke_service_pipe.add_component(\"functions_llm\", OpenAIChatGenerator(api_key=Secret.from_token(llm_api_key), model=\"gpt-3.5-turbo-0613\"))\n",
        "invoke_service_pipe.add_component(\"openapi_container\", OpenAPIServiceConnector(service_auths={\"Github API\": github_token}))\n",
        "invoke_service_pipe.connect(\"functions_llm.replies\", \"openapi_container.messages\")\n",
        "\n",
        "gen_pipe = Pipeline()\n",
        "gen_pipe.add_component(\"llm\", OpenAIChatGenerator(api_key=Secret.from_token(llm_api_key), model=\"gpt-4-1106-preview\", streaming_callback=print_streaming_chunk))"
      ],
      "metadata": {
        "id": "jTlJ_9V0mp74"
      },
      "execution_count": 24,
      "outputs": []
    },
    {
      "cell_type": "markdown",
      "source": [
        "## 4. User Input and PR Command Processing\n",
        "\n",
        "Here, the user can input specific GitHub PR commands. Make sure to mention\n",
        "project, repo and the branches involved."
      ],
      "metadata": {
        "id": "36h_9JjSZQnO"
      }
    },
    {
      "cell_type": "code",
      "source": [
        "user_prompt = input(\"Enter your GitHub PR command: \")\n",
        "#Example: Compare branches main and test/benchmarks2.0, in project deepset-ai, repo haystack\n",
        "#Example: Compare branches main and rafaelpadilla:add_bbox_transformations in project huggingface repo transformers"
      ],
      "metadata": {
        "colab": {
          "base_uri": "https://localhost:8080/"
        },
        "id": "gHMEuFG5nLPN",
        "outputId": "fc6bde04-29dc-4b69-b9ac-fea1fd921734"
      },
      "execution_count": 11,
      "outputs": [
        {
          "name": "stdout",
          "output_type": "stream",
          "text": [
            "Enter your GitHub PR command: Compare branches main and test/benchmarks2.0, in project deepset-ai, repo haystack\n"
          ]
        }
      ]
    },
    {
      "cell_type": "code",
      "source": [
        "messages = [ChatMessage.from_system(\"You are a helpful assistant capable of function calling.\"),\n",
        "            ChatMessage.from_user(user_prompt)]"
      ],
      "metadata": {
        "id": "RQ1uiVsTm14e"
      },
      "execution_count": 20,
      "outputs": []
    },
    {
      "cell_type": "markdown",
      "source": [
        "## 5. Processing OpenAPI Specification and GitHub Service Invocation\n",
        "In this step, the notebook retrieves the OpenAPI specification for the GitHub compare branches service. This specification is then transformed into OpenAI function definitions. When a user inputs a command, the LLM generates service information parameters from this input. These parameters are used to dynamically invoke the GitHub compare branches service, allowing for real-time, context-sensitive interactions with GitHub's API.\n",
        "\n",
        "\n",
        "But before we do that let's review the GitHub OpenAPI service definition.\n"
      ],
      "metadata": {
        "id": "XOpKp5mxZrwV"
      }
    },
    {
      "cell_type": "code",
      "source": [
        "import json\n",
        "import requests\n",
        "from IPython.display import HTML\n",
        "\n",
        "def render(jstr):\n",
        "  if type(jstr) != str:\n",
        "    jstr = json.dumps(jstr)\n",
        "  return HTML(\"\"\"\n",
        "<script src=\"https://rawgit.com/caldwell/renderjson/master/renderjson.js\"></script>\n",
        "<script>\n",
        "renderjson.set_show_to_level(1)\n",
        "document.body.appendChild(renderjson(%s))\n",
        "new ResizeObserver(google.colab.output.resizeIframeToContent).observe(document.body)\n",
        "</script>\n",
        "\"\"\" % jstr)\n",
        "\n",
        "response = requests.get(\"https://bit.ly/github_compare\")\n",
        "response.raise_for_status()\n",
        "render(response.json())"
      ],
      "metadata": {
        "colab": {
          "base_uri": "https://localhost:8080/",
          "height": 139
        },
        "id": "gRUmWce-wxvr",
        "outputId": "b631767e-5b7a-4973-d904-1ff8c5431ac2"
      },
      "execution_count": 21,
      "outputs": [
        {
          "output_type": "execute_result",
          "data": {
            "text/plain": [
              "<IPython.core.display.HTML object>"
            ],
            "text/html": [
              "\n",
              "<script src=\"https://rawgit.com/caldwell/renderjson/master/renderjson.js\"></script>\n",
              "<script>\n",
              "renderjson.set_show_to_level(1)\n",
              "document.body.appendChild(renderjson({\"openapi\": \"3.1.0\", \"info\": {\"title\": \"Github API\", \"description\": \"Enables interaction with OpenAPI\", \"version\": \"v1.0.0\"}, \"servers\": [{\"url\": \"https://api.github.com\"}], \"paths\": {\"/repos/{owner}/{repo}/compare/{basehead}\": {\"get\": {\"summary\": \"Compare two branches\", \"description\": \"Compares two branches against one another.\", \"tags\": [\"repos\"], \"operationId\": \"compare_branches\", \"externalDocs\": {\"description\": \"API method documentation\", \"url\": \"https://docs.github.com/enterprise-server@3.9/rest/commits/commits#compare-two-commits\"}, \"parameters\": [{\"name\": \"basehead\", \"description\": \"The base branch and head branch to compare. This parameter expects the format `BASE...HEAD`\", \"in\": \"path\", \"required\": true, \"x-multi-segment\": true, \"schema\": {\"type\": \"string\"}}, {\"name\": \"owner\", \"description\": \"The repository owner, usually a company or orgnization\", \"in\": \"path\", \"required\": true, \"x-multi-segment\": true, \"schema\": {\"type\": \"string\"}}, {\"name\": \"repo\", \"description\": \"The repository itself, the project\", \"in\": \"path\", \"required\": true, \"x-multi-segment\": true, \"schema\": {\"type\": \"string\"}}], \"responses\": {\"200\": {\"description\": \"Response\", \"content\": {\"application/json\": {\"schema\": {\"$ref\": \"#/components/schemas/commit-comparison\"}}}}}, \"x-github\": {\"githubCloudOnly\": false, \"enabledForGitHubApps\": true, \"category\": \"commits\", \"subcategory\": \"commits\"}}}}, \"components\": {\"schemas\": {\"commit-comparison\": {\"title\": \"Commit Comparison\", \"description\": \"Commit Comparison\", \"type\": \"object\", \"properties\": {\"url\": {\"type\": \"string\", \"format\": \"uri\", \"example\": \"https://api.github.com/repos/octocat/Hello-World/compare/master...topic\"}, \"html_url\": {\"type\": \"string\", \"format\": \"uri\", \"example\": \"https://github.com/octocat/Hello-World/compare/master...topic\"}, \"permalink_url\": {\"type\": \"string\", \"format\": \"uri\", \"example\": \"https://github.com/octocat/Hello-World/compare/octocat:bbcd538c8e72b8c175046e27cc8f907076331401...octocat:0328041d1152db8ae77652d1618a02e57f745f17\"}, \"diff_url\": {\"type\": \"string\", \"format\": \"uri\", \"example\": \"https://github.com/octocat/Hello-World/compare/master...topic.diff\"}, \"patch_url\": {\"type\": \"string\", \"format\": \"uri\", \"example\": \"https://github.com/octocat/Hello-World/compare/master...topic.patch\"}, \"base_commit\": {\"$ref\": \"#/components/schemas/commit\"}, \"merge_base_commit\": {\"$ref\": \"#/components/schemas/commit\"}, \"status\": {\"type\": \"string\", \"enum\": [\"diverged\", \"ahead\", \"behind\", \"identical\"], \"example\": \"ahead\"}, \"ahead_by\": {\"type\": \"integer\", \"example\": 4}, \"behind_by\": {\"type\": \"integer\", \"example\": 5}, \"total_commits\": {\"type\": \"integer\", \"example\": 6}, \"commits\": {\"type\": \"array\", \"items\": {\"$ref\": \"#/components/schemas/commit\"}}, \"files\": {\"type\": \"array\", \"items\": {\"$ref\": \"#/components/schemas/diff-entry\"}}}, \"required\": [\"url\", \"html_url\", \"permalink_url\", \"diff_url\", \"patch_url\", \"base_commit\", \"merge_base_commit\", \"status\", \"ahead_by\", \"behind_by\", \"total_commits\", \"commits\"]}, \"nullable-git-user\": {\"title\": \"Git User\", \"description\": \"Metaproperties for Git author/committer information.\", \"type\": \"object\", \"properties\": {\"name\": {\"type\": \"string\", \"example\": \"\\\"Chris Wanstrath\\\"\"}, \"email\": {\"type\": \"string\", \"example\": \"\\\"chris@ozmm.org\\\"\"}, \"date\": {\"type\": \"string\", \"example\": \"\\\"2007-10-29T02:42:39.000-07:00\\\"\"}}, \"nullable\": true}, \"nullable-simple-user\": {\"title\": \"Simple User\", \"description\": \"A GitHub user.\", \"type\": \"object\", \"properties\": {\"name\": {\"nullable\": true, \"type\": \"string\"}, \"email\": {\"nullable\": true, \"type\": \"string\"}, \"login\": {\"type\": \"string\", \"example\": \"octocat\"}, \"id\": {\"type\": \"integer\", \"example\": 1}, \"node_id\": {\"type\": \"string\", \"example\": \"MDQ6VXNlcjE=\"}, \"avatar_url\": {\"type\": \"string\", \"format\": \"uri\", \"example\": \"https://github.com/images/error/octocat_happy.gif\"}, \"gravatar_id\": {\"type\": \"string\", \"example\": \"41d064eb2195891e12d0413f63227ea7\", \"nullable\": true}, \"url\": {\"type\": \"string\", \"format\": \"uri\", \"example\": \"https://api.github.com/users/octocat\"}, \"html_url\": {\"type\": \"string\", \"format\": \"uri\", \"example\": \"https://github.com/octocat\"}, \"followers_url\": {\"type\": \"string\", \"format\": \"uri\", \"example\": \"https://api.github.com/users/octocat/followers\"}, \"following_url\": {\"type\": \"string\", \"example\": \"https://api.github.com/users/octocat/following{/other_user}\"}, \"gists_url\": {\"type\": \"string\", \"example\": \"https://api.github.com/users/octocat/gists{/gist_id}\"}, \"starred_url\": {\"type\": \"string\", \"example\": \"https://api.github.com/users/octocat/starred{/owner}{/repo}\"}, \"subscriptions_url\": {\"type\": \"string\", \"format\": \"uri\", \"example\": \"https://api.github.com/users/octocat/subscriptions\"}, \"organizations_url\": {\"type\": \"string\", \"format\": \"uri\", \"example\": \"https://api.github.com/users/octocat/orgs\"}, \"repos_url\": {\"type\": \"string\", \"format\": \"uri\", \"example\": \"https://api.github.com/users/octocat/repos\"}, \"events_url\": {\"type\": \"string\", \"example\": \"https://api.github.com/users/octocat/events{/privacy}\"}, \"received_events_url\": {\"type\": \"string\", \"format\": \"uri\", \"example\": \"https://api.github.com/users/octocat/received_events\"}, \"type\": {\"type\": \"string\", \"example\": \"User\"}, \"site_admin\": {\"type\": \"boolean\"}, \"starred_at\": {\"type\": \"string\", \"example\": \"\\\"2020-07-09T00:17:55Z\\\"\"}}, \"required\": [\"avatar_url\", \"events_url\", \"followers_url\", \"following_url\", \"gists_url\", \"gravatar_id\", \"html_url\", \"id\", \"node_id\", \"login\", \"organizations_url\", \"received_events_url\", \"repos_url\", \"site_admin\", \"starred_url\", \"subscriptions_url\", \"type\", \"url\"], \"nullable\": true}, \"verification\": {\"title\": \"Verification\", \"type\": \"object\", \"properties\": {\"verified\": {\"type\": \"boolean\"}, \"reason\": {\"type\": \"string\"}, \"payload\": {\"type\": \"string\", \"nullable\": true}, \"signature\": {\"type\": \"string\", \"nullable\": true}}, \"required\": [\"verified\", \"reason\", \"payload\", \"signature\"]}, \"diff-entry\": {\"title\": \"Diff Entry\", \"description\": \"Diff Entry\", \"type\": \"object\", \"properties\": {\"sha\": {\"type\": \"string\", \"example\": \"bbcd538c8e72b8c175046e27cc8f907076331401\"}, \"filename\": {\"type\": \"string\", \"example\": \"file1.txt\"}, \"status\": {\"type\": \"string\", \"enum\": [\"added\", \"removed\", \"modified\", \"renamed\", \"copied\", \"changed\", \"unchanged\"], \"example\": \"added\"}, \"additions\": {\"type\": \"integer\", \"example\": 103}, \"deletions\": {\"type\": \"integer\", \"example\": 21}, \"changes\": {\"type\": \"integer\", \"example\": 124}, \"blob_url\": {\"type\": \"string\", \"format\": \"uri\", \"example\": \"https://github.com/octocat/Hello-World/blob/6dcb09b5b57875f334f61aebed695e2e4193db5e/file1.txt\"}, \"raw_url\": {\"type\": \"string\", \"format\": \"uri\", \"example\": \"https://github.com/octocat/Hello-World/raw/6dcb09b5b57875f334f61aebed695e2e4193db5e/file1.txt\"}, \"contents_url\": {\"type\": \"string\", \"format\": \"uri\", \"example\": \"https://api.github.com/repos/octocat/Hello-World/contents/file1.txt?ref=6dcb09b5b57875f334f61aebed695e2e4193db5e\"}, \"patch\": {\"type\": \"string\", \"example\": \"@@ -132,7 +132,7 @@ module Test @@ -1000,7 +1000,7 @@ module Test\"}, \"previous_filename\": {\"type\": \"string\", \"example\": \"file.txt\"}}, \"required\": [\"additions\", \"blob_url\", \"changes\", \"contents_url\", \"deletions\", \"filename\", \"raw_url\", \"sha\", \"status\"]}, \"commit\": {\"title\": \"Commit\", \"description\": \"Commit\", \"type\": \"object\", \"properties\": {\"url\": {\"type\": \"string\", \"format\": \"uri\", \"example\": \"https://api.github.com/repos/octocat/Hello-World/commits/6dcb09b5b57875f334f61aebed695e2e4193db5e\"}, \"sha\": {\"type\": \"string\", \"example\": \"6dcb09b5b57875f334f61aebed695e2e4193db5e\"}, \"node_id\": {\"type\": \"string\", \"example\": \"MDY6Q29tbWl0NmRjYjA5YjViNTc4NzVmMzM0ZjYxYWViZWQ2OTVlMmU0MTkzZGI1ZQ==\"}, \"html_url\": {\"type\": \"string\", \"format\": \"uri\", \"example\": \"https://github.com/octocat/Hello-World/commit/6dcb09b5b57875f334f61aebed695e2e4193db5e\"}, \"comments_url\": {\"type\": \"string\", \"format\": \"uri\", \"example\": \"https://api.github.com/repos/octocat/Hello-World/commits/6dcb09b5b57875f334f61aebed695e2e4193db5e/comments\"}, \"commit\": {\"type\": \"object\", \"properties\": {\"url\": {\"type\": \"string\", \"format\": \"uri\", \"example\": \"https://api.github.com/repos/octocat/Hello-World/commits/6dcb09b5b57875f334f61aebed695e2e4193db5e\"}, \"author\": {\"$ref\": \"#/components/schemas/nullable-git-user\"}, \"committer\": {\"$ref\": \"#/components/schemas/nullable-git-user\"}, \"message\": {\"type\": \"string\", \"example\": \"Fix all the bugs\"}, \"comment_count\": {\"type\": \"integer\", \"example\": 0}, \"tree\": {\"type\": \"object\", \"properties\": {\"sha\": {\"type\": \"string\", \"example\": \"827efc6d56897b048c772eb4087f854f46256132\"}, \"url\": {\"type\": \"string\", \"format\": \"uri\", \"example\": \"https://api.github.com/repos/octocat/Hello-World/tree/827efc6d56897b048c772eb4087f854f46256132\"}}, \"required\": [\"sha\", \"url\"]}, \"verification\": {\"$ref\": \"#/components/schemas/verification\"}}, \"required\": [\"author\", \"committer\", \"comment_count\", \"message\", \"tree\", \"url\"]}, \"author\": {\"$ref\": \"#/components/schemas/nullable-simple-user\"}, \"committer\": {\"$ref\": \"#/components/schemas/nullable-simple-user\"}, \"parents\": {\"type\": \"array\", \"items\": {\"type\": \"object\", \"properties\": {\"sha\": {\"type\": \"string\", \"example\": \"7638417db6d59f3c431d3e1f261cc637155684cd\"}, \"url\": {\"type\": \"string\", \"format\": \"uri\", \"example\": \"https://api.github.com/repos/octocat/Hello-World/commits/7638417db6d59f3c431d3e1f261cc637155684cd\"}, \"html_url\": {\"type\": \"string\", \"format\": \"uri\", \"example\": \"https://github.com/octocat/Hello-World/commit/7638417db6d59f3c431d3e1f261cc637155684cd\"}}, \"required\": [\"sha\", \"url\"]}}, \"stats\": {\"type\": \"object\", \"properties\": {\"additions\": {\"type\": \"integer\"}, \"deletions\": {\"type\": \"integer\"}, \"total\": {\"type\": \"integer\"}}}, \"files\": {\"type\": \"array\", \"items\": {\"$ref\": \"#/components/schemas/diff-entry\"}}}, \"required\": [\"url\", \"sha\", \"node_id\", \"html_url\", \"comments_url\", \"commit\", \"author\", \"committer\", \"parents\"]}}, \"securitySchemes\": {\"apikey\": {\"type\": \"apiKey\", \"name\": \"x-api-key\", \"in\": \"header\"}}}}))\n",
              "new ResizeObserver(google.colab.output.resizeIframeToContent).observe(document.body)\n",
              "</script>\n"
            ]
          },
          "metadata": {},
          "execution_count": 21
        }
      ]
    },
    {
      "cell_type": "code",
      "source": [
        "open_api_doc = functions_result[\"spec_to_functions\"][\"documents\"][0]\n",
        "openai_functions_definition = json.loads(open_api_doc.content)\n",
        "openapi_spec = open_api_doc.meta[\"spec\"]"
      ],
      "metadata": {
        "id": "SotAtgzDMi1O"
      },
      "execution_count": 22,
      "outputs": []
    },
    {
      "cell_type": "code",
      "source": [
        "# The fetched data, which includes details like PR commits, descriptions, and author information\n",
        "tools_param = [{\"type\": \"function\", \"function\": openai_functions_definition}]\n",
        "tool_choice = {\"type\": \"function\", \"function\": {\"name\": openai_functions_definition[\"name\"]}}\n",
        "\n",
        "service_response = invoke_service_pipe.run(data={\"messages\":[ChatMessage.from_user(user_prompt)],\n",
        "                                                 \"generation_kwargs\": {\"tools\": tools_param,\n",
        "                                                                       \"tool_choice\": tool_choice},\n",
        "                                                 \"service_openapi_spec\": openapi_spec})"
      ],
      "metadata": {
        "id": "OJGMLNcjmwAi"
      },
      "execution_count": 25,
      "outputs": []
    },
    {
      "cell_type": "markdown",
      "source": [
        "## 6. Generating Github PR Text with GPT-4 Model\n",
        "\n",
        "Using the latest GPT-4 model (gpt-4-1106-preview), this section generates the textual content of the GitHub PR using the GitHub service data as context."
      ],
      "metadata": {
        "id": "3sa2Xs8dZ8fW"
      }
    },
    {
      "cell_type": "code",
      "source": [
        "\n",
        "gen_pipe = Pipeline()\n",
        "gen_pipe.add_component(\"llm\", OpenAIChatGenerator(api_key=Secret.from_token(llm_api_key), model=\"gpt-4-1106-preview\", streaming_callback=print_streaming_chunk))\n",
        "\n",
        "github_pr_prompt_messages = [ChatMessage.from_system(system_message)] + service_response[\"openapi_container\"][\"service_response\"]\n",
        "final_result = gen_pipe.run(data={\"messages\": github_pr_prompt_messages})"
      ],
      "metadata": {
        "colab": {
          "base_uri": "https://localhost:8080/"
        },
        "id": "mHEZtb7nnzXJ",
        "outputId": "25733735-625b-481c-9e54-e3853d8aa1b6"
      },
      "execution_count": 36,
      "outputs": [
        {
          "output_type": "stream",
          "name": "stdout",
          "text": [
            "### Why:\n",
            "The change is motivated by the need to establish a continuous benchmarking system for the project. This includes the implementation of GitHub Actions for automatic benchmark running, collection of metrics related to benchmarking tasks, and integration with the Datadog platform for metrics reporting and visualization. Effective benchmarking is crucial for performance evaluation and ensures that any code changes do not degrade the quality or performance of the system.\n",
            "\n",
            "### What:\n",
            "- **GitHub Actions Workflow**: A new GitHub Actions workflow file added for running benchmarks and sending results to Datadog.\n",
            "- **Datadog Metric Handlers**: Scripts added to handle custom metrics for Datadog, including various tagging and data collection utilities.\n",
            "- **Benchmarking Scripts**: Python scripts for running indexing and retrieval operations, designed to generate performance metrics.\n",
            "- **Benchmarking Pipelines**: Added YAML configuration files for indexing and retrieval operations that will be used in benchmarking tests.\n",
            "- **Utility Functions**: Utility Python script added that facilitates downloading datasets and queries used for benchmarking purposes.\n",
            "\n",
            "### How can it be used:\n",
            "- The GitHub Actions workflow can automatically run benchmarking tasks on a schedule or upon request.\n",
            "- The Datadog metric handlers can collect and send various performance metrics to Datadog where they can be tracked over time.\n",
            "- Benchmarking scripts can be executed to measure the performance of different components or operations within the project.\n",
            "- Pipelines defined in YAML files streamline benchmark setup, ensuring consistent environments for tests.\n",
            "- Utility functions support efficient setup for benchmarking tasks by managing datasets.\n",
            "\n",
            "### How did you test it:\n",
            "The commits do not provide explicit details on test executions for the newly added automation and scripts. It would be advisable to enforce the following testing strategy:\n",
            "- **Unit Testing**: Validate individual functions within utility scripts and metric handlers.\n",
            "- **Integration Testing**: Ensure that the complete workflow, including GitHub Actions, benchmarking scripts, and metric handling, works as expected in an integrated manner.\n",
            "- **Performance Testing**: Actual execution of the benchmarking scripts should result in consistent and accurate performance metrics.\n",
            "- **End-to-End Testing**: Run the entire CI pipeline including the cleanup tasks to verify that it functions end-to-end.\n",
            "\n",
            "### Notes for the reviewer:\n",
            "- Special attention should be given to ensuring that GitHub Action secrets and environment variables are correctly configured.\n",
            "- Validation is required to ensure that Datadog metrics are correctly formed and submitted.\n",
            "- It might be beneficial to check for Python script compatibility with the project's existing codebase.\n",
            "- Review the scheduling times and triggers for the GitHub Actions workflow to confirm they meet the project's benchmarking frequency requirements.\n",
            "- Ensure that all newly added scripts adhere to the project's coding and documentation standards."
          ]
        }
      ]
    },
    {
      "cell_type": "markdown",
      "source": [
        "##7. Displaying the Generated PR Text\n",
        "\n",
        "Although we also streamed GitHub PR text, the generated GitHub PR text is displayed below in a special markdown component."
      ],
      "metadata": {
        "id": "wFk929D9aNRm"
      }
    },
    {
      "cell_type": "code",
      "source": [
        "from IPython.display import Markdown\n",
        "Markdown(final_result[\"llm\"][\"replies\"][0].content)"
      ],
      "metadata": {
        "colab": {
          "base_uri": "https://localhost:8080/",
          "height": 676
        },
        "id": "BXnVA3V5tufs",
        "outputId": "ed18a22a-f428-4ba8-913e-434b0fac3e0b"
      },
      "execution_count": 37,
      "outputs": [
        {
          "output_type": "execute_result",
          "data": {
            "text/plain": [
              "<IPython.core.display.Markdown object>"
            ],
            "text/markdown": "### Why:\nThe change is motivated by the need to establish a continuous benchmarking system for the project. This includes the implementation of GitHub Actions for automatic benchmark running, collection of metrics related to benchmarking tasks, and integration with the Datadog platform for metrics reporting and visualization. Effective benchmarking is crucial for performance evaluation and ensures that any code changes do not degrade the quality or performance of the system.\n\n### What:\n- **GitHub Actions Workflow**: A new GitHub Actions workflow file added for running benchmarks and sending results to Datadog.\n- **Datadog Metric Handlers**: Scripts added to handle custom metrics for Datadog, including various tagging and data collection utilities.\n- **Benchmarking Scripts**: Python scripts for running indexing and retrieval operations, designed to generate performance metrics.\n- **Benchmarking Pipelines**: Added YAML configuration files for indexing and retrieval operations that will be used in benchmarking tests.\n- **Utility Functions**: Utility Python script added that facilitates downloading datasets and queries used for benchmarking purposes.\n\n### How can it be used:\n- The GitHub Actions workflow can automatically run benchmarking tasks on a schedule or upon request.\n- The Datadog metric handlers can collect and send various performance metrics to Datadog where they can be tracked over time.\n- Benchmarking scripts can be executed to measure the performance of different components or operations within the project.\n- Pipelines defined in YAML files streamline benchmark setup, ensuring consistent environments for tests.\n- Utility functions support efficient setup for benchmarking tasks by managing datasets.\n\n### How did you test it:\nThe commits do not provide explicit details on test executions for the newly added automation and scripts. It would be advisable to enforce the following testing strategy:\n- **Unit Testing**: Validate individual functions within utility scripts and metric handlers.\n- **Integration Testing**: Ensure that the complete workflow, including GitHub Actions, benchmarking scripts, and metric handling, works as expected in an integrated manner.\n- **Performance Testing**: Actual execution of the benchmarking scripts should result in consistent and accurate performance metrics.\n- **End-to-End Testing**: Run the entire CI pipeline including the cleanup tasks to verify that it functions end-to-end.\n\n### Notes for the reviewer:\n- Special attention should be given to ensuring that GitHub Action secrets and environment variables are correctly configured.\n- Validation is required to ensure that Datadog metrics are correctly formed and submitted.\n- It might be beneficial to check for Python script compatibility with the project's existing codebase.\n- Review the scheduling times and triggers for the GitHub Actions workflow to confirm they meet the project's benchmarking frequency requirements.\n- Ensure that all newly added scripts adhere to the project's coding and documentation standards."
          },
          "metadata": {},
          "execution_count": 37
        }
      ]
    },
    {
      "cell_type": "markdown",
      "source": [
        "## Thank you, questions?\n",
        "\n",
        "<a href=\"www.qr-code-generator.com/\" border=\"0\" style=\"cursor:default\" rel=\"nofollow\"><img src=\"https://chart.googleapis.com/chart?cht=qr&chl=https%3A%2F%2Fgithub.com%2Fvblagoje%2Fnotebooks%2Fblob%2Fmain%2Fhaystack2x-demos%2Fgithub_pr_writer_haystack2_x.ipynb&chs=180x180&choe=UTF-8&chld=L|2\"></a>"
      ],
      "metadata": {
        "id": "9X_X6VQ-oq0V"
      }
    },
    {
      "cell_type": "markdown",
      "source": [
        "## Links:\n",
        "- https://github.com/deepset-ai/haystack/\n",
        "- https://haystack.deepset.ai/community\n",
        "- https://x.com/vladblagoje"
      ],
      "metadata": {
        "id": "-5yO2JClrBq5"
      }
    }
  ]
}