{
  "nbformat": 4,
  "nbformat_minor": 0,
  "metadata": {
    "colab": {
      "provenance": [],
      "authorship_tag": "ABX9TyMxcxWcWeAmAusofBtv6apw",
      "include_colab_link": true
    },
    "kernelspec": {
      "name": "python3",
      "display_name": "Python 3"
    },
    "language_info": {
      "name": "python"
    }
  },
  "cells": [
    {
      "cell_type": "markdown",
      "metadata": {
        "id": "view-in-github",
        "colab_type": "text"
      },
      "source": [
        "<a href=\"https://colab.research.google.com/github/vblagoje/notebooks/blob/main/github_pr_writer_haystack2_x.ipynb\" target=\"_parent\"><img src=\"https://colab.research.google.com/assets/colab-badge.svg\" alt=\"Open In Colab\"/></a>"
      ]
    },
    {
      "cell_type": "markdown",
      "source": [
        "#Introduction\n",
        "\n",
        "This notebook demonstrates the versatility of Haystack 2.x framework in integrating with any OpenAPI specification service, exemplified here using automated GitHub Pull Request writing. It highlights how we can dynamically invoke any OpenAPI services and incorporate their outputs into the context of a Large Language Model (LLM), showcasing on-demand, service-based Retrieval-Augmented Generation (RAG)."
      ],
      "metadata": {
        "id": "m2LZsriKe_HM"
      }
    },
    {
      "cell_type": "markdown",
      "source": [
        "## 1. Setup\n",
        "\n",
        "This notebook demos GitHub Pull Request (PR) text generation.\n",
        "\n",
        "Let's install necessary libraries and import key modules to build the foundation for the subsequent steps."
      ],
      "metadata": {
        "id": "vAJ49qd5YHoY"
      }
    },
    {
      "cell_type": "code",
      "execution_count": 49,
      "metadata": {
        "colab": {
          "base_uri": "https://localhost:8080/"
        },
        "id": "LeI4Pf1YlwXd",
        "outputId": "96dee63a-0e8a-4143-d4dc-a6db35425590"
      },
      "outputs": [
        {
          "output_type": "stream",
          "name": "stdout",
          "text": [
            "\u001b[33mDEPRECATION: git+https://github.com/deepset-ai/haystack.git@openapi_container#egg=farm-haystack[preview] contains an egg fragment with a non-PEP 508 name pip 25.0 will enforce this behaviour change. A possible replacement is to use the req @ url syntax, and remove the egg fragment. Discussion can be found at https://github.com/pypa/pip/issues/11617\u001b[0m\u001b[33m\n",
            "\u001b[0m  Installing build dependencies ... \u001b[?25l\u001b[?25hdone\n",
            "  Getting requirements to build wheel ... \u001b[?25l\u001b[?25hdone\n",
            "  Preparing metadata (pyproject.toml) ... \u001b[?25l\u001b[?25hdone\n"
          ]
        }
      ],
      "source": [
        "!pip install -q git+https://github.com/deepset-ai/haystack.git@openapi_container#egg=farm-haystack[preview]"
      ]
    },
    {
      "cell_type": "code",
      "source": [
        "!pip install -q jsonref openapi3"
      ],
      "metadata": {
        "id": "ABVE4N8yl5mA"
      },
      "execution_count": 50,
      "outputs": []
    },
    {
      "cell_type": "code",
      "source": [
        "import getpass\n",
        "import os\n",
        "\n",
        "from haystack.preview import Pipeline\n",
        "from haystack.preview.components.builders.openapi_service_functions_builder import OpenAPIServiceFunctionsBuilder\n",
        "from haystack.preview.components.connectors import OpenAPIServiceConnector\n",
        "from haystack.preview.components.generators.chat import GPTChatGenerator\n",
        "from haystack.preview.components.generators.utils import default_streaming_callback\n",
        "from haystack.preview.dataclasses import ChatMessage"
      ],
      "metadata": {
        "id": "sF9T8r8ymBRy"
      },
      "execution_count": 51,
      "outputs": []
    },
    {
      "cell_type": "markdown",
      "source": [
        "## 2. API Key Input and System Initialization\n",
        "\n",
        "Begin by entering your OpenAI API key. Following this step, we initialize a system message for the GitHub PR Expert."
      ],
      "metadata": {
        "id": "HQVXS85hYliI"
      }
    },
    {
      "cell_type": "code",
      "source": [
        "llm_api_key = getpass.getpass(\"Enter LLM provider api key:\")"
      ],
      "metadata": {
        "colab": {
          "base_uri": "https://localhost:8080/"
        },
        "id": "MtJwPt38mVYy",
        "outputId": "afc91b50-d1e5-4a18-81cf-2307220f90d9"
      },
      "execution_count": 52,
      "outputs": [
        {
          "name": "stdout",
          "output_type": "stream",
          "text": [
            "Enter LLM provider api key:··········\n"
          ]
        }
      ]
    },
    {
      "cell_type": "code",
      "source": [
        "system_message = \"\"\"\n",
        "As the GitHub PR Expert, your enhanced role now includes the ability to analyze diffs provided by GitHub REST service.\n",
        "You'll be given a JSON formatted string consisting of PR commits, description, authors etc. Your primary task is\n",
        "crafting GitHub Pull Request text in markdown format, structured into five sections:\n",
        "\n",
        "Why:\n",
        "What:\n",
        "How can it be used:\n",
        "How did you test it:\n",
        "Notes for the reviewer:\n",
        "\n",
        "Always use these sections' names, don't rename them\n",
        "\n",
        "When provided with a diff link or output, you should review and interpret the changes to accurately describe them\n",
        "in the PR. In cases where the diff is not clear or more context is needed, you should request additional information\n",
        "or clarification. Continue to use markdown elements effectively to organize the PR content. Avoid common mistakes\n",
        "like misinterpreting the diff or providing irrelevant information. Your goal is to offer insightful, accurate\n",
        "descriptions of code changes, enhancing the understanding of the PR reviewer.\n",
        "\"\"\"\n",
        "system_message = ChatMessage.from_system(system_message)\n"
      ],
      "metadata": {
        "id": "wALrroVfmGxg"
      },
      "execution_count": 53,
      "outputs": []
    },
    {
      "cell_type": "markdown",
      "source": [
        "## 3. Pipeline Creation and Configuration\n",
        "\n",
        "This section involves setting up the core components of the Haystack 2.x pipeline, which includes the OpenAPIServiceFunctionsBuilder, GPTChatGenerator, and OpenAPIServiceConnector. These components are connected to create a  pipeline that processes and interprets the GitHub PR commands and data."
      ],
      "metadata": {
        "id": "qvyqnUpNY_lN"
      }
    },
    {
      "cell_type": "code",
      "source": [
        "functions_builder = OpenAPIServiceFunctionsBuilder()\n",
        "functions_llm = GPTChatGenerator(api_key=llm_api_key, model_name=\"gpt-3.5-turbo-0613\")\n",
        "openapi_container = OpenAPIServiceConnector()\n",
        "llm = GPTChatGenerator(api_key=llm_api_key, model_name=\"gpt-4-1106-preview\", streaming_callback=default_streaming_callback)"
      ],
      "metadata": {
        "id": "M6jCK8ppmN_j"
      },
      "execution_count": 54,
      "outputs": []
    },
    {
      "cell_type": "code",
      "source": [
        "pipe = Pipeline()\n",
        "pipe.add_component(\"functions_builder\", functions_builder)\n",
        "pipe.add_component(\"functions_llm\", functions_llm)\n",
        "pipe.add_component(\"openapi_container\", openapi_container)\n",
        "pipe.connect(\"functions_builder.functions\", \"functions_llm.generation_kwargs\")\n",
        "pipe.connect(\"functions_builder.service_openapi_spec\", \"openapi_container.service_openapi_spec\")\n",
        "pipe.connect(\"functions_llm.replies\", \"openapi_container.messages\")\n",
        "\n",
        "gen_pipe = Pipeline()\n",
        "gen_pipe.add_component(\"llm\", llm)"
      ],
      "metadata": {
        "id": "jTlJ_9V0mp74"
      },
      "execution_count": 55,
      "outputs": []
    },
    {
      "cell_type": "markdown",
      "source": [
        "## 4. User Input and PR Command Processing\n",
        "\n",
        "Here, the user can input specific GitHub PR commands. Make sure to mention\n",
        "project, repo and the branches involved."
      ],
      "metadata": {
        "id": "36h_9JjSZQnO"
      }
    },
    {
      "cell_type": "code",
      "source": [
        "user_prompt = input(\"Enter your GitHub PR command: \")\n",
        "#Example: Compare branches main and pipeline_run_input, in project deepset-ai, repo haystack"
      ],
      "metadata": {
        "colab": {
          "base_uri": "https://localhost:8080/"
        },
        "id": "gHMEuFG5nLPN",
        "outputId": "c2240c6b-7f62-4f15-9ae8-847b5bb081ad"
      },
      "execution_count": 56,
      "outputs": [
        {
          "name": "stdout",
          "output_type": "stream",
          "text": [
            "Enter your GitHub PR command: Compare branches main and pipeline_run_input, in project deepset-ai, repo haystack\n"
          ]
        }
      ]
    },
    {
      "cell_type": "code",
      "source": [
        "messages = [ChatMessage.from_system(\"You are a helpful assistant capable of function calling.\"),\n",
        "            ChatMessage.from_user(user_prompt)]"
      ],
      "metadata": {
        "id": "RQ1uiVsTm14e"
      },
      "execution_count": 57,
      "outputs": []
    },
    {
      "cell_type": "markdown",
      "source": [
        "## 5. Processing OpenAPI Specification and GitHub Service Invocation\n",
        "In this step, the notebook retrieves the OpenAPI specification for the GitHub compare branches service. This specification is then transformed into OpenAI function definitions. When a user inputs a command, the LLM generates service information parameters from this input. These parameters are used to dynamically invoke the GitHub compare branches service, allowing for real-time, context-sensitive interactions with GitHub's API.\n",
        "\n",
        "\n",
        "But before we do that let's review the GitHub OpenAPI service definition.\n"
      ],
      "metadata": {
        "id": "XOpKp5mxZrwV"
      }
    },
    {
      "cell_type": "code",
      "source": [
        "openapi_github_compare_branches_spec_url = \"https://t.ly/eBODl\""
      ],
      "metadata": {
        "id": "OMy7S5_Dnlri"
      },
      "execution_count": 58,
      "outputs": []
    },
    {
      "cell_type": "code",
      "source": [
        "import json\n",
        "import requests\n",
        "from IPython.display import HTML\n",
        "\n",
        "def render(jstr):\n",
        "  if type(jstr) != str:\n",
        "    jstr = json.dumps(jstr)\n",
        "  return HTML(\"\"\"\n",
        "<script src=\"https://rawgit.com/caldwell/renderjson/master/renderjson.js\"></script>\n",
        "<script>\n",
        "renderjson.set_show_to_level(1)\n",
        "document.body.appendChild(renderjson(%s))\n",
        "new ResizeObserver(google.colab.output.resizeIframeToContent).observe(document.body)\n",
        "</script>\n",
        "\"\"\" % jstr)\n",
        "\n",
        "response = requests.get(openapi_github_compare_branches_spec_url)\n",
        "response.raise_for_status()\n",
        "render(response.json())"
      ],
      "metadata": {
        "colab": {
          "base_uri": "https://localhost:8080/",
          "height": 139
        },
        "id": "gRUmWce-wxvr",
        "outputId": "0299a129-6c1c-4fe1-e49d-be6d8bd1a1bc"
      },
      "execution_count": 59,
      "outputs": [
        {
          "output_type": "execute_result",
          "data": {
            "text/plain": [
              "<IPython.core.display.HTML object>"
            ],
            "text/html": [
              "\n",
              "<script src=\"https://rawgit.com/caldwell/renderjson/master/renderjson.js\"></script>\n",
              "<script>\n",
              "renderjson.set_show_to_level(1)\n",
              "document.body.appendChild(renderjson({\"openapi\": \"3.1.0\", \"info\": {\"title\": \"Github API\", \"description\": \"Enables interaction with OpenAPI\", \"version\": \"v1.0.0\"}, \"servers\": [{\"url\": \"https://api.github.com\"}], \"paths\": {\"/repos/{owner}/{repo}/compare/{basehead}\": {\"get\": {\"summary\": \"Compare two branches\", \"description\": \"Compares two branches against one another.\", \"tags\": [\"repos\"], \"operationId\": \"compare_branches\", \"externalDocs\": {\"description\": \"API method documentation\", \"url\": \"https://docs.github.com/enterprise-server@3.9/rest/commits/commits#compare-two-commits\"}, \"parameters\": [{\"name\": \"basehead\", \"description\": \"The base branch and head branch to compare. This parameter expects the format `BASE...HEAD`\", \"in\": \"path\", \"required\": true, \"x-multi-segment\": true, \"schema\": {\"type\": \"string\"}}, {\"name\": \"owner\", \"description\": \"The repository owner, usually a company or orgnization\", \"in\": \"path\", \"required\": true, \"x-multi-segment\": true, \"schema\": {\"type\": \"string\"}}, {\"name\": \"repo\", \"description\": \"The repository itself, the project\", \"in\": \"path\", \"required\": true, \"x-multi-segment\": true, \"schema\": {\"type\": \"string\"}}], \"responses\": {\"200\": {\"description\": \"Response\", \"content\": {\"application/json\": {\"schema\": {\"$ref\": \"#/components/schemas/commit-comparison\"}}}}}, \"x-github\": {\"githubCloudOnly\": false, \"enabledForGitHubApps\": true, \"category\": \"commits\", \"subcategory\": \"commits\"}}}}, \"components\": {\"schemas\": {\"commit-comparison\": {\"title\": \"Commit Comparison\", \"description\": \"Commit Comparison\", \"type\": \"object\", \"properties\": {\"url\": {\"type\": \"string\", \"format\": \"uri\", \"example\": \"https://api.github.com/repos/octocat/Hello-World/compare/master...topic\"}, \"html_url\": {\"type\": \"string\", \"format\": \"uri\", \"example\": \"https://github.com/octocat/Hello-World/compare/master...topic\"}, \"permalink_url\": {\"type\": \"string\", \"format\": \"uri\", \"example\": \"https://github.com/octocat/Hello-World/compare/octocat:bbcd538c8e72b8c175046e27cc8f907076331401...octocat:0328041d1152db8ae77652d1618a02e57f745f17\"}, \"diff_url\": {\"type\": \"string\", \"format\": \"uri\", \"example\": \"https://github.com/octocat/Hello-World/compare/master...topic.diff\"}, \"patch_url\": {\"type\": \"string\", \"format\": \"uri\", \"example\": \"https://github.com/octocat/Hello-World/compare/master...topic.patch\"}, \"base_commit\": {\"$ref\": \"#/components/schemas/commit\"}, \"merge_base_commit\": {\"$ref\": \"#/components/schemas/commit\"}, \"status\": {\"type\": \"string\", \"enum\": [\"diverged\", \"ahead\", \"behind\", \"identical\"], \"example\": \"ahead\"}, \"ahead_by\": {\"type\": \"integer\", \"example\": 4}, \"behind_by\": {\"type\": \"integer\", \"example\": 5}, \"total_commits\": {\"type\": \"integer\", \"example\": 6}, \"commits\": {\"type\": \"array\", \"items\": {\"$ref\": \"#/components/schemas/commit\"}}, \"files\": {\"type\": \"array\", \"items\": {\"$ref\": \"#/components/schemas/diff-entry\"}}}, \"required\": [\"url\", \"html_url\", \"permalink_url\", \"diff_url\", \"patch_url\", \"base_commit\", \"merge_base_commit\", \"status\", \"ahead_by\", \"behind_by\", \"total_commits\", \"commits\"]}, \"nullable-git-user\": {\"title\": \"Git User\", \"description\": \"Metaproperties for Git author/committer information.\", \"type\": \"object\", \"properties\": {\"name\": {\"type\": \"string\", \"example\": \"\\\"Chris Wanstrath\\\"\"}, \"email\": {\"type\": \"string\", \"example\": \"\\\"chris@ozmm.org\\\"\"}, \"date\": {\"type\": \"string\", \"example\": \"\\\"2007-10-29T02:42:39.000-07:00\\\"\"}}, \"nullable\": true}, \"nullable-simple-user\": {\"title\": \"Simple User\", \"description\": \"A GitHub user.\", \"type\": \"object\", \"properties\": {\"name\": {\"nullable\": true, \"type\": \"string\"}, \"email\": {\"nullable\": true, \"type\": \"string\"}, \"login\": {\"type\": \"string\", \"example\": \"octocat\"}, \"id\": {\"type\": \"integer\", \"example\": 1}, \"node_id\": {\"type\": \"string\", \"example\": \"MDQ6VXNlcjE=\"}, \"avatar_url\": {\"type\": \"string\", \"format\": \"uri\", \"example\": \"https://github.com/images/error/octocat_happy.gif\"}, \"gravatar_id\": {\"type\": \"string\", \"example\": \"41d064eb2195891e12d0413f63227ea7\", \"nullable\": true}, \"url\": {\"type\": \"string\", \"format\": \"uri\", \"example\": \"https://api.github.com/users/octocat\"}, \"html_url\": {\"type\": \"string\", \"format\": \"uri\", \"example\": \"https://github.com/octocat\"}, \"followers_url\": {\"type\": \"string\", \"format\": \"uri\", \"example\": \"https://api.github.com/users/octocat/followers\"}, \"following_url\": {\"type\": \"string\", \"example\": \"https://api.github.com/users/octocat/following{/other_user}\"}, \"gists_url\": {\"type\": \"string\", \"example\": \"https://api.github.com/users/octocat/gists{/gist_id}\"}, \"starred_url\": {\"type\": \"string\", \"example\": \"https://api.github.com/users/octocat/starred{/owner}{/repo}\"}, \"subscriptions_url\": {\"type\": \"string\", \"format\": \"uri\", \"example\": \"https://api.github.com/users/octocat/subscriptions\"}, \"organizations_url\": {\"type\": \"string\", \"format\": \"uri\", \"example\": \"https://api.github.com/users/octocat/orgs\"}, \"repos_url\": {\"type\": \"string\", \"format\": \"uri\", \"example\": \"https://api.github.com/users/octocat/repos\"}, \"events_url\": {\"type\": \"string\", \"example\": \"https://api.github.com/users/octocat/events{/privacy}\"}, \"received_events_url\": {\"type\": \"string\", \"format\": \"uri\", \"example\": \"https://api.github.com/users/octocat/received_events\"}, \"type\": {\"type\": \"string\", \"example\": \"User\"}, \"site_admin\": {\"type\": \"boolean\"}, \"starred_at\": {\"type\": \"string\", \"example\": \"\\\"2020-07-09T00:17:55Z\\\"\"}}, \"required\": [\"avatar_url\", \"events_url\", \"followers_url\", \"following_url\", \"gists_url\", \"gravatar_id\", \"html_url\", \"id\", \"node_id\", \"login\", \"organizations_url\", \"received_events_url\", \"repos_url\", \"site_admin\", \"starred_url\", \"subscriptions_url\", \"type\", \"url\"], \"nullable\": true}, \"verification\": {\"title\": \"Verification\", \"type\": \"object\", \"properties\": {\"verified\": {\"type\": \"boolean\"}, \"reason\": {\"type\": \"string\"}, \"payload\": {\"type\": \"string\", \"nullable\": true}, \"signature\": {\"type\": \"string\", \"nullable\": true}}, \"required\": [\"verified\", \"reason\", \"payload\", \"signature\"]}, \"diff-entry\": {\"title\": \"Diff Entry\", \"description\": \"Diff Entry\", \"type\": \"object\", \"properties\": {\"sha\": {\"type\": \"string\", \"example\": \"bbcd538c8e72b8c175046e27cc8f907076331401\"}, \"filename\": {\"type\": \"string\", \"example\": \"file1.txt\"}, \"status\": {\"type\": \"string\", \"enum\": [\"added\", \"removed\", \"modified\", \"renamed\", \"copied\", \"changed\", \"unchanged\"], \"example\": \"added\"}, \"additions\": {\"type\": \"integer\", \"example\": 103}, \"deletions\": {\"type\": \"integer\", \"example\": 21}, \"changes\": {\"type\": \"integer\", \"example\": 124}, \"blob_url\": {\"type\": \"string\", \"format\": \"uri\", \"example\": \"https://github.com/octocat/Hello-World/blob/6dcb09b5b57875f334f61aebed695e2e4193db5e/file1.txt\"}, \"raw_url\": {\"type\": \"string\", \"format\": \"uri\", \"example\": \"https://github.com/octocat/Hello-World/raw/6dcb09b5b57875f334f61aebed695e2e4193db5e/file1.txt\"}, \"contents_url\": {\"type\": \"string\", \"format\": \"uri\", \"example\": \"https://api.github.com/repos/octocat/Hello-World/contents/file1.txt?ref=6dcb09b5b57875f334f61aebed695e2e4193db5e\"}, \"patch\": {\"type\": \"string\", \"example\": \"@@ -132,7 +132,7 @@ module Test @@ -1000,7 +1000,7 @@ module Test\"}, \"previous_filename\": {\"type\": \"string\", \"example\": \"file.txt\"}}, \"required\": [\"additions\", \"blob_url\", \"changes\", \"contents_url\", \"deletions\", \"filename\", \"raw_url\", \"sha\", \"status\"]}, \"commit\": {\"title\": \"Commit\", \"description\": \"Commit\", \"type\": \"object\", \"properties\": {\"url\": {\"type\": \"string\", \"format\": \"uri\", \"example\": \"https://api.github.com/repos/octocat/Hello-World/commits/6dcb09b5b57875f334f61aebed695e2e4193db5e\"}, \"sha\": {\"type\": \"string\", \"example\": \"6dcb09b5b57875f334f61aebed695e2e4193db5e\"}, \"node_id\": {\"type\": \"string\", \"example\": \"MDY6Q29tbWl0NmRjYjA5YjViNTc4NzVmMzM0ZjYxYWViZWQ2OTVlMmU0MTkzZGI1ZQ==\"}, \"html_url\": {\"type\": \"string\", \"format\": \"uri\", \"example\": \"https://github.com/octocat/Hello-World/commit/6dcb09b5b57875f334f61aebed695e2e4193db5e\"}, \"comments_url\": {\"type\": \"string\", \"format\": \"uri\", \"example\": \"https://api.github.com/repos/octocat/Hello-World/commits/6dcb09b5b57875f334f61aebed695e2e4193db5e/comments\"}, \"commit\": {\"type\": \"object\", \"properties\": {\"url\": {\"type\": \"string\", \"format\": \"uri\", \"example\": \"https://api.github.com/repos/octocat/Hello-World/commits/6dcb09b5b57875f334f61aebed695e2e4193db5e\"}, \"author\": {\"$ref\": \"#/components/schemas/nullable-git-user\"}, \"committer\": {\"$ref\": \"#/components/schemas/nullable-git-user\"}, \"message\": {\"type\": \"string\", \"example\": \"Fix all the bugs\"}, \"comment_count\": {\"type\": \"integer\", \"example\": 0}, \"tree\": {\"type\": \"object\", \"properties\": {\"sha\": {\"type\": \"string\", \"example\": \"827efc6d56897b048c772eb4087f854f46256132\"}, \"url\": {\"type\": \"string\", \"format\": \"uri\", \"example\": \"https://api.github.com/repos/octocat/Hello-World/tree/827efc6d56897b048c772eb4087f854f46256132\"}}, \"required\": [\"sha\", \"url\"]}, \"verification\": {\"$ref\": \"#/components/schemas/verification\"}}, \"required\": [\"author\", \"committer\", \"comment_count\", \"message\", \"tree\", \"url\"]}, \"author\": {\"$ref\": \"#/components/schemas/nullable-simple-user\"}, \"committer\": {\"$ref\": \"#/components/schemas/nullable-simple-user\"}, \"parents\": {\"type\": \"array\", \"items\": {\"type\": \"object\", \"properties\": {\"sha\": {\"type\": \"string\", \"example\": \"7638417db6d59f3c431d3e1f261cc637155684cd\"}, \"url\": {\"type\": \"string\", \"format\": \"uri\", \"example\": \"https://api.github.com/repos/octocat/Hello-World/commits/7638417db6d59f3c431d3e1f261cc637155684cd\"}, \"html_url\": {\"type\": \"string\", \"format\": \"uri\", \"example\": \"https://github.com/octocat/Hello-World/commit/7638417db6d59f3c431d3e1f261cc637155684cd\"}}, \"required\": [\"sha\", \"url\"]}}, \"stats\": {\"type\": \"object\", \"properties\": {\"additions\": {\"type\": \"integer\"}, \"deletions\": {\"type\": \"integer\"}, \"total\": {\"type\": \"integer\"}}}, \"files\": {\"type\": \"array\", \"items\": {\"$ref\": \"#/components/schemas/diff-entry\"}}}, \"required\": [\"url\", \"sha\", \"node_id\", \"html_url\", \"comments_url\", \"commit\", \"author\", \"committer\", \"parents\"]}}}}))\n",
              "new ResizeObserver(google.colab.output.resizeIframeToContent).observe(document.body)\n",
              "</script>\n"
            ]
          },
          "metadata": {},
          "execution_count": 59
        }
      ]
    },
    {
      "cell_type": "code",
      "source": [
        "# The fetched data, which includes details like PR commits, descriptions, and author information\n",
        "service_result = pipe.run(data={\"functions_builder\": {\"service_spec_url\": openapi_github_compare_branches_spec_url},\n",
        "                                \"functions_llm\": {\"messages\": messages}})"
      ],
      "metadata": {
        "id": "OJGMLNcjmwAi"
      },
      "execution_count": 60,
      "outputs": []
    },
    {
      "cell_type": "markdown",
      "source": [
        "## 6. Generating Github PR Text with GPT-4 Model\n",
        "\n",
        "Using the latest GPT-4 model (gpt-4-1106-preview), this section generates the textual content of the GitHub PR using the GitHub service data as context."
      ],
      "metadata": {
        "id": "3sa2Xs8dZ8fW"
      }
    },
    {
      "cell_type": "code",
      "source": [
        "github_pr_prompt_messages = [system_message] + service_result[\"openapi_container\"][\"service_response\"]\n",
        "final_result = gen_pipe.run(data={\"llm\": {\"messages\": github_pr_prompt_messages}})"
      ],
      "metadata": {
        "colab": {
          "base_uri": "https://localhost:8080/"
        },
        "id": "mHEZtb7nnzXJ",
        "outputId": "429d12ca-3dcc-4a00-ee02-d80d06d2982f"
      },
      "execution_count": 61,
      "outputs": [
        {
          "output_type": "stream",
          "name": "stdout",
          "text": [
            "### Why:\n",
            "In order to enhance the usability and flexibility of the Haystack pipeline execution process, an update has been made to the `run` method interface. The development seeks to offer users an alternative invocation that simplifies providing input to the pipeline components.\n",
            "\n",
            "### What:\n",
            "The proposed change introduces several modifications to the `haystack/preview/pipeline.py` file. The key update is enabling users to run a pipeline without specifying component names in the input dictionary. With this update, you can directly pass input keys and values to the `run` method, and the pipeline will resolve the appropriate components internally.\n",
            "\n",
            "### How can it be used:\n",
            "Users can now call the `run` method on a Haystack pipeline in two ways:\n",
            "\n",
            "1. Using a data dictionary where each key is the component name, which in turn maps to another dictionary containing input parameters for that component.\n",
            "2. With a flat dictionary of input keys and values, allowing the pipeline's internal mechanisms to automatically determine the relevant components for these inputs.\n",
            "\n",
            "For instance:\n",
            "\n",
            "```python\n",
            "result = pipeline.run(data={\"word\": \"world\"})\n",
            "```\n",
            "vs.\n",
            "```python\n",
            "result = pipeline.run(data={\"hello\": {\"word\": \"world\"}})\n",
            "```\n",
            "\n",
            "Both invocations will produce the same outcome, but the former offers a more succinct way of executing the pipeline.\n",
            "\n",
            "### How did you test it:\n",
            "A test case has been added to `test/preview/test_pipeline.py` that verifies the functionality of the simplified pipeline input. The test creates a pipeline with a \"Hello\" component and executes it using three different input structures:\n",
            "\n",
            "1. Nested input with component names.\n",
            "2. Flat input without component names.\n",
            "3. Positional argument style.\n",
            "\n",
            "The assert statements confirm that all invocation methods produce the expected output.\n",
            "\n",
            "### Notes for the reviewer:\n",
            "- This update comes with an \"overloaded\" version of the `run` method to handle different input structures.\n",
            "- The test coverage seems appropriate, but additional edge cases might be considered for extensive testing.\n",
            "- The \"overload\" mechanism is used for method dispatch based on input arguments.\n",
            "- Be aware that the new simplified input method interacts with internal pipeline mechanisms which could be subject to future changes. It's marked as an evolving interface, so reviewing for potential long-term maintenance issues would be prudent.\n",
            "- Please ensure the changes align with the project's conventions for overriding methods and handling pipeline inputs.\n",
            "- A note has been added to the release notes `allow-simplified-pipeline-run-input-e3dd98ff38f0bc01.yaml` detailing this feature for users upgrading or reading the changelog."
          ]
        }
      ]
    },
    {
      "cell_type": "markdown",
      "source": [
        "##7. Displaying the Generated PR Text\n",
        "\n",
        "Although we also streamed GitHub PR text, the generated GitHub PR text is displayed below in a special markdown component."
      ],
      "metadata": {
        "id": "wFk929D9aNRm"
      }
    },
    {
      "cell_type": "code",
      "source": [
        "from IPython.display import Markdown\n",
        "display(Markdown(final_result[\"llm\"][\"replies\"][0].content))"
      ],
      "metadata": {
        "colab": {
          "base_uri": "https://localhost:8080/",
          "height": 806
        },
        "id": "BXnVA3V5tufs",
        "outputId": "333ab890-ac49-45a6-aca4-6058db3b0a8b"
      },
      "execution_count": 62,
      "outputs": [
        {
          "output_type": "display_data",
          "data": {
            "text/plain": [
              "<IPython.core.display.Markdown object>"
            ],
            "text/markdown": "### Why:\nIn order to enhance the usability and flexibility of the Haystack pipeline execution process, an update has been made to the `run` method interface. The development seeks to offer users an alternative invocation that simplifies providing input to the pipeline components.\n\n### What:\nThe proposed change introduces several modifications to the `haystack/preview/pipeline.py` file. The key update is enabling users to run a pipeline without specifying component names in the input dictionary. With this update, you can directly pass input keys and values to the `run` method, and the pipeline will resolve the appropriate components internally.\n\n### How can it be used:\nUsers can now call the `run` method on a Haystack pipeline in two ways:\n\n1. Using a data dictionary where each key is the component name, which in turn maps to another dictionary containing input parameters for that component.\n2. With a flat dictionary of input keys and values, allowing the pipeline's internal mechanisms to automatically determine the relevant components for these inputs.\n\nFor instance:\n\n```python\nresult = pipeline.run(data={\"word\": \"world\"})\n```\nvs.\n```python\nresult = pipeline.run(data={\"hello\": {\"word\": \"world\"}})\n```\n\nBoth invocations will produce the same outcome, but the former offers a more succinct way of executing the pipeline.\n\n### How did you test it:\nA test case has been added to `test/preview/test_pipeline.py` that verifies the functionality of the simplified pipeline input. The test creates a pipeline with a \"Hello\" component and executes it using three different input structures:\n\n1. Nested input with component names.\n2. Flat input without component names.\n3. Positional argument style.\n\nThe assert statements confirm that all invocation methods produce the expected output.\n\n### Notes for the reviewer:\n- This update comes with an \"overloaded\" version of the `run` method to handle different input structures.\n- The test coverage seems appropriate, but additional edge cases might be considered for extensive testing.\n- The \"overload\" mechanism is used for method dispatch based on input arguments.\n- Be aware that the new simplified input method interacts with internal pipeline mechanisms which could be subject to future changes. It's marked as an evolving interface, so reviewing for potential long-term maintenance issues would be prudent.\n- Please ensure the changes align with the project's conventions for overriding methods and handling pipeline inputs.\n- A note has been added to the release notes `allow-simplified-pipeline-run-input-e3dd98ff38f0bc01.yaml` detailing this feature for users upgrading or reading the changelog."
          },
          "metadata": {}
        }
      ]
    }
  ]
}