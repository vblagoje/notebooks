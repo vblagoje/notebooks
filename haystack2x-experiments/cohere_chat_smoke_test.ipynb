{
  "nbformat": 4,
  "nbformat_minor": 0,
  "metadata": {
    "colab": {
      "provenance": [],
      "authorship_tag": "ABX9TyOiTMsKBn9GU2BNAAmvPHfe",
      "include_colab_link": true
    },
    "kernelspec": {
      "name": "python3",
      "display_name": "Python 3"
    },
    "language_info": {
      "name": "python"
    }
  },
  "cells": [
    {
      "cell_type": "markdown",
      "metadata": {
        "id": "view-in-github",
        "colab_type": "text"
      },
      "source": [
        "<a href=\"https://colab.research.google.com/github/vblagoje/notebooks/blob/main/haystack2x-experiments/cohere_chat_smoke_test.ipynb\" target=\"_parent\"><img src=\"https://colab.research.google.com/assets/colab-badge.svg\" alt=\"Open In Colab\"/></a>"
      ]
    },
    {
      "cell_type": "code",
      "execution_count": 1,
      "metadata": {
        "colab": {
          "base_uri": "https://localhost:8080/"
        },
        "id": "_iyWez12oZJT",
        "outputId": "d302a9e3-1400-4c28-e748-25a7236ce32f"
      },
      "outputs": [
        {
          "output_type": "stream",
          "name": "stdout",
          "text": [
            "  Installing build dependencies ... \u001b[?25l\u001b[?25hdone\n",
            "  Getting requirements to build wheel ... \u001b[?25l\u001b[?25hdone\n",
            "  Preparing metadata (pyproject.toml) ... \u001b[?25l\u001b[?25hdone\n",
            "\u001b[2K     \u001b[90m━━━━━━━━━━━━━━━━━━━━━━━━━━━━━━━━━━━━━━━━\u001b[0m \u001b[32m223.4/223.4 kB\u001b[0m \u001b[31m2.8 MB/s\u001b[0m eta \u001b[36m0:00:00\u001b[0m\n",
            "\u001b[2K     \u001b[90m━━━━━━━━━━━━━━━━━━━━━━━━━━━━━━━━━━━━━━━━\u001b[0m \u001b[32m40.7/40.7 kB\u001b[0m \u001b[31m3.8 MB/s\u001b[0m eta \u001b[36m0:00:00\u001b[0m\n",
            "\u001b[2K     \u001b[90m━━━━━━━━━━━━━━━━━━━━━━━━━━━━━━━━━━━━━━━━\u001b[0m \u001b[32m75.9/75.9 kB\u001b[0m \u001b[31m7.5 MB/s\u001b[0m eta \u001b[36m0:00:00\u001b[0m\n",
            "\u001b[2K     \u001b[90m━━━━━━━━━━━━━━━━━━━━━━━━━━━━━━━━━━━━━━━━\u001b[0m \u001b[32m76.9/76.9 kB\u001b[0m \u001b[31m8.0 MB/s\u001b[0m eta \u001b[36m0:00:00\u001b[0m\n",
            "\u001b[2K     \u001b[90m━━━━━━━━━━━━━━━━━━━━━━━━━━━━━━━━━━━━━━━━\u001b[0m \u001b[32m58.3/58.3 kB\u001b[0m \u001b[31m5.6 MB/s\u001b[0m eta \u001b[36m0:00:00\u001b[0m\n",
            "\u001b[?25h  Building wheel for haystack-ai (pyproject.toml) ... \u001b[?25l\u001b[?25hdone\n",
            "\u001b[31mERROR: pip's dependency resolver does not currently take into account all the packages that are installed. This behaviour is the source of the following dependency conflicts.\n",
            "llmx 0.0.15a0 requires cohere, which is not installed.\n",
            "llmx 0.0.15a0 requires tiktoken, which is not installed.\n",
            "tensorflow-probability 0.22.0 requires typing-extensions<4.6.0, but you have typing-extensions 4.9.0 which is incompatible.\u001b[0m\u001b[31m\n",
            "\u001b[0m"
          ]
        }
      ],
      "source": [
        "!pip install -q git+https://github.com/deepset-ai/haystack.git"
      ]
    },
    {
      "cell_type": "code",
      "source": [
        "!pip install -q cohere-haystack"
      ],
      "metadata": {
        "id": "uOp9HQmgoas6"
      },
      "execution_count": null,
      "outputs": []
    },
    {
      "cell_type": "code",
      "source": [
        "import getpass\n",
        "\n",
        "llm_api_key = getpass.getpass(\"Enter LLM provider api key:\")"
      ],
      "metadata": {
        "colab": {
          "base_uri": "https://localhost:8080/"
        },
        "id": "SsfHvRPBomdT",
        "outputId": "c40098af-cafe-45c0-bf58-1dfc6e2d7f95"
      },
      "execution_count": 3,
      "outputs": [
        {
          "name": "stdout",
          "output_type": "stream",
          "text": [
            "Enter LLM provider api key:··········\n"
          ]
        }
      ]
    },
    {
      "cell_type": "code",
      "source": [
        "from haystack import Pipeline\n",
        "from haystack.components.builders import DynamicChatPromptBuilder\n",
        "from haystack.dataclasses import ChatMessage\n",
        "from haystack_integrations.components.generators.cohere import CohereChatGenerator\n",
        "\n",
        "\n",
        "pipe = Pipeline()\n",
        "pipe.add_component(\"prompt_builder\", DynamicChatPromptBuilder())\n",
        "pipe.add_component(\"llm\", CohereChatGenerator(api_key=llm_api_key))\n",
        "pipe.connect(\"prompt_builder\", \"llm\")\n",
        "\n",
        "country = \"Germany\"\n",
        "system_message = ChatMessage.from_system(\"You are an assistant giving out valuable information to language learners.\")\n",
        "messages = [system_message, ChatMessage.from_user(\"What's the official language of {{ country }}?\")]\n",
        "\n",
        "res = pipe.run(data={\"prompt_builder\": {\"template_variables\": {\"country\": \"Germany\"}, \"prompt_source\": messages}})\n",
        "print(res)\n"
      ],
      "metadata": {
        "colab": {
          "base_uri": "https://localhost:8080/"
        },
        "id": "lOFdkb8oohG-",
        "outputId": "b41ce1ed-93b3-4f08-97f8-12f7f3b3feb0"
      },
      "execution_count": 4,
      "outputs": [
        {
          "output_type": "stream",
          "name": "stdout",
          "text": [
            "{'llm': {'replies': [ChatMessage(content=\"The official language of Germany is German, a language comprised of various dialects and spoken by over 100 million people worldwide. \\n\\nGerman is a unique and fascinating language with a rich cultural and historical background. It's known for its accuracy and clarity, which is why it's the language of choice in many fields like engineering, higher education, and tourism. \\n\\nAs an AI language model, I can provide you with many more interesting facts about the German language, its history, and unique characteristics. \\n\\nLet me know if you want me to dive deeper into any specific topics related to German language and culture.\", role=<ChatRole.ASSISTANT: 'assistant'>, name=None, meta={'model': 'command', 'usage': {'prompt_tokens': 86, 'response_tokens': 122, 'total_tokens': 208, 'billed_tokens': 193}, 'index': 0, 'finish_reason': None, 'documents': None, 'citations': None})]}}\n"
          ]
        }
      ]
    }
  ]
}