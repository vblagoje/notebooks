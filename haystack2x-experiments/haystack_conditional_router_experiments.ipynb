{
  "cells": [
    {
      "cell_type": "markdown",
      "metadata": {
        "id": "view-in-github",
        "colab_type": "text"
      },
      "source": [
        "<a href=\"https://colab.research.google.com/github/vblagoje/notebooks/blob/main/haystack2x-experiments/haystack_conditional_router_experiments.ipynb\" target=\"_parent\"><img src=\"https://colab.research.google.com/assets/colab-badge.svg\" alt=\"Open In Colab\"/></a>"
      ]
    },
    {
      "cell_type": "code",
      "source": [
        "!pip install -q git+https://github.com/deepset-ai/haystack.git@connection_router_v2#egg=farm-haystack[preview]"
      ],
      "metadata": {
        "id": "95RkY63hLHs2"
      },
      "execution_count": null,
      "outputs": []
    },
    {
      "cell_type": "markdown",
      "metadata": {
        "id": "iRgZj_7OK_UD"
      },
      "source": [
        "### 1) Let's create a custom component we'll use in our example"
      ]
    },
    {
      "cell_type": "code",
      "execution_count": null,
      "metadata": {
        "id": "x_BiUO1aK_UF"
      },
      "outputs": [],
      "source": [
        "from haystack.preview import component\n",
        "\n",
        "@component\n",
        "class Echo:\n",
        "\n",
        "    component.output_types(output=str)\n",
        "    def run(self, query: str):\n",
        "        return {\"output\":query}"
      ]
    },
    {
      "cell_type": "markdown",
      "metadata": {
        "id": "GKNXAwgSK_UG"
      },
      "source": [
        "### 2) The ConditionalRouter with the routes defined"
      ]
    },
    {
      "cell_type": "code",
      "execution_count": null,
      "metadata": {
        "id": "Uvyn8lZAK_UG"
      },
      "outputs": [],
      "source": [
        "from haystack.preview.components.routers import ConditionalRouter\n",
        "routes = [\n",
        "        {\n",
        "            \"condition\": \"{{query|length > 20}}\",\n",
        "            \"output\": \"{{query}}\",\n",
        "            \"output_name\": \"complex_query\",\n",
        "            \"output_type\": str,\n",
        "        },\n",
        "        {\n",
        "            \"condition\": \"{{query|length <= 20}}\",\n",
        "            \"output\": \"{{query}}\",\n",
        "            \"output_name\": \"simple_query\",\n",
        "            \"output_type\": str,\n",
        "        },\n",
        "    ]\n",
        "router = ConditionalRouter(routes=routes)"
      ]
    },
    {
      "cell_type": "markdown",
      "metadata": {
        "id": "YFAiWvlTK_UG"
      },
      "source": [
        "### 3) Define the pipeline"
      ]
    },
    {
      "cell_type": "code",
      "execution_count": null,
      "metadata": {
        "id": "hfPB7nXdK_UG"
      },
      "outputs": [],
      "source": [
        "from haystack.preview.components.builders.prompt_builder import PromptBuilder\n",
        "from haystack.preview import Pipeline\n",
        "\n",
        "pipe = Pipeline()\n",
        "pipe.add_component(\"router\", router)\n",
        "pipe.add_component(\"prompt_builder\", PromptBuilder(\"Tell me more about {{query}}\"))\n",
        "pipe.add_component(\"echo\", Echo())\n",
        "pipe.connect(\"router.complex_query\", \"echo.query\")\n",
        "pipe.connect(\"router.simple_query\", \"prompt_builder.query\")"
      ]
    },
    {
      "cell_type": "markdown",
      "metadata": {
        "id": "pV413-PTK_UH"
      },
      "source": [
        "### 4) And run it\n",
        "#### Change query variable to a longer text (> 20 chars), see what happens"
      ]
    },
    {
      "cell_type": "code",
      "execution_count": null,
      "metadata": {
        "colab": {
          "base_uri": "https://localhost:8080/"
        },
        "id": "WHQNZG5rK_UH",
        "outputId": "7ac11c71-535e-4875-fd95-98d0e91ca98f"
      },
      "outputs": [
        {
          "output_type": "execute_result",
          "data": {
            "text/plain": [
              "{'prompt_builder': {'prompt': 'Tell me more about Berlin'}}"
            ]
          },
          "metadata": {},
          "execution_count": 4
        }
      ],
      "source": [
        "query = \"Berlin\"\n",
        "pipe.run(data={\"router\": {\"query\": query}})"
      ]
    },
    {
      "cell_type": "markdown",
      "metadata": {
        "id": "C5YO-3GjK_UH"
      },
      "source": [
        "### 5) Serialize the pipeline"
      ]
    },
    {
      "cell_type": "code",
      "execution_count": null,
      "metadata": {
        "id": "3sMaR6GLK_UH"
      },
      "outputs": [],
      "source": [
        "fp = open(\"haystack-router-prompt.yaml\", \"w\")\n",
        "pipe.dump(fp)\n",
        "fp.close()"
      ]
    },
    {
      "cell_type": "markdown",
      "metadata": {
        "id": "if3unI3wK_UH"
      },
      "source": [
        "### 6) Another ConditionalRouter with a mix of complex and simple str objects"
      ]
    },
    {
      "cell_type": "code",
      "execution_count": null,
      "metadata": {
        "id": "LQiqArQcK_UH"
      },
      "outputs": [],
      "source": [
        "from typing import List\n",
        "from haystack.preview.dataclasses import ChatMessage\n",
        "\n",
        "routes_new = [\n",
        "        {\n",
        "            \"condition\": \"{{messages[-1].content|length > 20}}\",\n",
        "            \"output\": \"{{messages}}\",\n",
        "            \"output_name\": \"complex_query\",\n",
        "            \"output_type\": List[ChatMessage],\n",
        "        },\n",
        "        {\n",
        "            \"condition\": \"{{messages[-1].content|length <= 20}}\",\n",
        "            \"output\": \"{{messages[-1].content}}\",\n",
        "            \"output_name\": \"simple_query\",\n",
        "            \"output_type\": str,\n",
        "        },\n",
        "    ]\n",
        "new_router = ConditionalRouter(routes=routes_new)"
      ]
    },
    {
      "cell_type": "markdown",
      "metadata": {
        "id": "K4YRLtfUK_UH"
      },
      "source": [
        "### 7) EchoChatMessage used in our experiments"
      ]
    },
    {
      "cell_type": "code",
      "execution_count": null,
      "metadata": {
        "id": "HH8oSIOVK_UI"
      },
      "outputs": [],
      "source": [
        "@component\n",
        "class EchoChatMessage:\n",
        "\n",
        "    component.output_types(output=List[ChatMessage])\n",
        "    def run(self, query: List[ChatMessage]):\n",
        "        return {\"output\":query}"
      ]
    },
    {
      "cell_type": "markdown",
      "metadata": {
        "id": "omedH2PXK_UI"
      },
      "source": [
        "### 8) New pipeline to handle ChatMessage"
      ]
    },
    {
      "cell_type": "code",
      "execution_count": null,
      "metadata": {
        "id": "q2zQJR5-K_UI"
      },
      "outputs": [],
      "source": [
        "new_pipe = Pipeline()\n",
        "new_pipe.add_component(\"router\", new_router)\n",
        "new_pipe.add_component(\"prompt_builder\", PromptBuilder(\"Tell me more about {{query}}\"))\n",
        "new_pipe.add_component(\"echo\", EchoChatMessage())\n",
        "new_pipe.connect(\"router.complex_query\", \"echo.query\")\n",
        "new_pipe.connect(\"router.simple_query\", \"prompt_builder.query\")"
      ]
    },
    {
      "cell_type": "markdown",
      "metadata": {
        "id": "IZ6Hj_03K_UI"
      },
      "source": [
        "### 9) Run the new Pipeline, again change `usr_msg` and see what happens"
      ]
    },
    {
      "cell_type": "code",
      "execution_count": null,
      "metadata": {
        "colab": {
          "base_uri": "https://localhost:8080/"
        },
        "id": "FJqZgiTeK_UI",
        "outputId": "95a24615-b641-41f2-f5b3-3afbb7229d57"
      },
      "outputs": [
        {
          "output_type": "execute_result",
          "data": {
            "text/plain": [
              "{'prompt_builder': {'prompt': 'Tell me more about Berlin'}}"
            ]
          },
          "metadata": {},
          "execution_count": 15
        }
      ],
      "source": [
        "from haystack.preview.dataclasses import ChatMessage\n",
        "\n",
        "user_msg = ChatMessage.from_user(\"Berlin\") # change to longer text to trigger complex query path\n",
        "messages = [ChatMessage.from_system(\"Speak in short A1 German sentences\"), user_msg]\n",
        "\n",
        "new_pipe.run(data={\"router\": {\"messages\": messages}})"
      ]
    },
    {
      "cell_type": "markdown",
      "metadata": {
        "id": "vyb4iFQ3K_UI"
      },
      "source": [
        "### 10) Serialize this Pipeline\n",
        "#### Notice the difference between this pipeline serialized form and the previous"
      ]
    },
    {
      "cell_type": "code",
      "execution_count": null,
      "metadata": {
        "id": "qxxVo1ssK_UI"
      },
      "outputs": [],
      "source": [
        "fp_new = open(\"haystack-router-complex-prompt.yaml\", \"w\")\n",
        "new_pipe.dump(fp_new)\n",
        "fp_new.close()"
      ]
    },
    {
      "cell_type": "markdown",
      "metadata": {
        "id": "za540N0DK_UI"
      },
      "source": [
        "### 11) Load complex pipeline and run it again\n",
        "#### Compare results to previous run, they should match"
      ]
    },
    {
      "cell_type": "code",
      "execution_count": null,
      "metadata": {
        "colab": {
          "base_uri": "https://localhost:8080/"
        },
        "id": "ZkUM5mHSK_UI",
        "outputId": "c0562ec9-aa89-45f9-c167-b72526151f42"
      },
      "outputs": [
        {
          "output_type": "execute_result",
          "data": {
            "text/plain": [
              "{'prompt_builder': {'prompt': 'Tell me more about Berlin'}}"
            ]
          },
          "metadata": {},
          "execution_count": 16
        }
      ],
      "source": [
        "complex_pipe_file = open(\"haystack-router-complex-prompt.yaml\", \"r\")\n",
        "new_pipe_restored = Pipeline.load(complex_pipe_file)\n",
        "complex_pipe_file.close()\n",
        "\n",
        "\n",
        "new_pipe_restored.run(data={\"router\": {\"messages\": messages}})"
      ]
    },
    {
      "cell_type": "code",
      "execution_count": null,
      "metadata": {
        "id": "qdcHXjLcK_UI"
      },
      "outputs": [],
      "source": []
    }
  ],
  "metadata": {
    "kernelspec": {
      "display_name": "Python 3 (ipykernel)",
      "language": "python",
      "name": "python3"
    },
    "language_info": {
      "codemirror_mode": {
        "name": "ipython",
        "version": 3
      },
      "file_extension": ".py",
      "mimetype": "text/x-python",
      "name": "python",
      "nbconvert_exporter": "python",
      "pygments_lexer": "ipython3",
      "version": "3.10.6"
    },
    "colab": {
      "provenance": [],
      "include_colab_link": true
    }
  },
  "nbformat": 4,
  "nbformat_minor": 0
}